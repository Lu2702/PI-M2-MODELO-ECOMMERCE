{
 "cells": [
  {
   "cell_type": "markdown",
   "id": "9e782f07",
   "metadata": {},
   "source": [
    "# **PI 4: Análisis exploratorio y evaluación de calidad de datos**\n",
    "\n",
    "- Explorar la estructura y el contenido de los datos utilizando consultas SQL.\n",
    "\n",
    "- Implementar análisis exploratorio complementario en Python mediante un ORM (como SQLAlchemy o psycopg2).\n",
    "\n",
    "- Detectar valores nulos, duplicados, atípicos y otras inconsistencias.\n",
    "\n",
    "- Identificar claves primarias y foráneas implícitas, atributos principales y variables relevantes para el negocio.\n",
    "\n",
    "- Proponer y documentar acciones de preprocesamiento y corrección de calidad de datos."
   ]
  },
  {
   "cell_type": "markdown",
   "id": "80e22c25",
   "metadata": {},
   "source": [
    "## Explorar la estructura y el contenido de los datos utilizando consultas SQL."
   ]
  },
  {
   "cell_type": "code",
   "execution_count": 2,
   "id": "478551d4",
   "metadata": {},
   "outputs": [
    {
     "name": "stdout",
     "output_type": "stream",
     "text": [
      "Motor de base de datos SQLAlchemy creado exitosamente para Docker (local).\n",
      "Conexión exitosa a la base de datos\n"
     ]
    }
   ],
   "source": [
    "#Importar librerias\n",
    "import pandas as pd\n",
    "import numpy as np \n",
    "import matplotlib.pyplot as plt\n",
    "import seaborn as sns\n",
    "\n",
    "#SQLAlchemy\n",
    "from sqlalchemy import text, func, extract\n",
    "from sqlalchemy.orm import sessionmaker\n",
    "\n",
    "#Conexión\n",
    "from db_conector import get_db_engine\n",
    "\n",
    "try: \n",
    "    engine = get_db_engine ()\n",
    "    print (\"Conexión exitosa a la base de datos\")\n",
    "except Exception as e:\n",
    "    print(f\"Error al conectarse con la base de datos: {e}\")\n"
   ]
  },
  {
   "cell_type": "code",
   "execution_count": 4,
   "id": "833459fa",
   "metadata": {},
   "outputs": [],
   "source": [
    "#Crear sesión \n",
    "Session = sessionmaker(bind=engine)\n",
    "session = Session()"
   ]
  },
  {
   "cell_type": "markdown",
   "id": "2ca50b6e",
   "metadata": {},
   "source": [
    "### Estructura y contenido tabla Usuarios "
   ]
  },
  {
   "cell_type": "code",
   "execution_count": 8,
   "id": "e5335351",
   "metadata": {},
   "outputs": [
    {
     "data": {
      "application/vnd.microsoft.datawrangler.viewer.v0+json": {
       "columns": [
        {
         "name": "index",
         "rawType": "int64",
         "type": "integer"
        },
        {
         "name": "UsuarioID",
         "rawType": "int64",
         "type": "integer"
        },
        {
         "name": "Nombre",
         "rawType": "object",
         "type": "string"
        },
        {
         "name": "Apellido",
         "rawType": "object",
         "type": "string"
        },
        {
         "name": "dni",
         "rawType": "object",
         "type": "string"
        },
        {
         "name": "Email",
         "rawType": "object",
         "type": "string"
        },
        {
         "name": "Contraseña",
         "rawType": "object",
         "type": "string"
        },
        {
         "name": "FechaRegistro",
         "rawType": "datetime64[ns]",
         "type": "datetime"
        }
       ],
       "ref": "b7f7eeef-c0af-4903-9dde-da3c4998002c",
       "rows": [
        [
         "0",
         "1",
         "Encarna",
         "Donaire",
         "49877134",
         "encarna.donaire1@correo.com",
         "Contraseña123",
         "2025-07-20 13:38:08.843842"
        ],
        [
         "1",
         "2",
         "Jose Ignacio",
         "Canales",
         "98778810",
         "joseignacio.canales2@correo.com",
         "Contraseña123",
         "2025-07-20 13:38:08.865956"
        ],
        [
         "2",
         "3",
         "José",
         "Sebastián",
         "80095714",
         "jose.sebastian3@correo.com",
         "Contraseña123",
         "2025-07-20 13:38:08.866966"
        ],
        [
         "3",
         "4",
         "Priscila",
         "Vilar",
         "94128750",
         "priscila.vilar4@correo.com",
         "Contraseña123",
         "2025-07-20 13:38:08.866966"
        ],
        [
         "4",
         "5",
         "Epifanio",
         "Ríos",
         "62958342",
         "epifanio.rios5@correo.com",
         "Contraseña123",
         "2025-07-20 13:38:08.866966"
        ]
       ],
       "shape": {
        "columns": 7,
        "rows": 5
       }
      },
      "text/html": [
       "<div>\n",
       "<style scoped>\n",
       "    .dataframe tbody tr th:only-of-type {\n",
       "        vertical-align: middle;\n",
       "    }\n",
       "\n",
       "    .dataframe tbody tr th {\n",
       "        vertical-align: top;\n",
       "    }\n",
       "\n",
       "    .dataframe thead th {\n",
       "        text-align: right;\n",
       "    }\n",
       "</style>\n",
       "<table border=\"1\" class=\"dataframe\">\n",
       "  <thead>\n",
       "    <tr style=\"text-align: right;\">\n",
       "      <th></th>\n",
       "      <th>UsuarioID</th>\n",
       "      <th>Nombre</th>\n",
       "      <th>Apellido</th>\n",
       "      <th>dni</th>\n",
       "      <th>Email</th>\n",
       "      <th>Contraseña</th>\n",
       "      <th>FechaRegistro</th>\n",
       "    </tr>\n",
       "  </thead>\n",
       "  <tbody>\n",
       "    <tr>\n",
       "      <th>0</th>\n",
       "      <td>1</td>\n",
       "      <td>Encarna</td>\n",
       "      <td>Donaire</td>\n",
       "      <td>49877134</td>\n",
       "      <td>encarna.donaire1@correo.com</td>\n",
       "      <td>Contraseña123</td>\n",
       "      <td>2025-07-20 13:38:08.843842</td>\n",
       "    </tr>\n",
       "    <tr>\n",
       "      <th>1</th>\n",
       "      <td>2</td>\n",
       "      <td>Jose Ignacio</td>\n",
       "      <td>Canales</td>\n",
       "      <td>98778810</td>\n",
       "      <td>joseignacio.canales2@correo.com</td>\n",
       "      <td>Contraseña123</td>\n",
       "      <td>2025-07-20 13:38:08.865956</td>\n",
       "    </tr>\n",
       "    <tr>\n",
       "      <th>2</th>\n",
       "      <td>3</td>\n",
       "      <td>José</td>\n",
       "      <td>Sebastián</td>\n",
       "      <td>80095714</td>\n",
       "      <td>jose.sebastian3@correo.com</td>\n",
       "      <td>Contraseña123</td>\n",
       "      <td>2025-07-20 13:38:08.866966</td>\n",
       "    </tr>\n",
       "    <tr>\n",
       "      <th>3</th>\n",
       "      <td>4</td>\n",
       "      <td>Priscila</td>\n",
       "      <td>Vilar</td>\n",
       "      <td>94128750</td>\n",
       "      <td>priscila.vilar4@correo.com</td>\n",
       "      <td>Contraseña123</td>\n",
       "      <td>2025-07-20 13:38:08.866966</td>\n",
       "    </tr>\n",
       "    <tr>\n",
       "      <th>4</th>\n",
       "      <td>5</td>\n",
       "      <td>Epifanio</td>\n",
       "      <td>Ríos</td>\n",
       "      <td>62958342</td>\n",
       "      <td>epifanio.rios5@correo.com</td>\n",
       "      <td>Contraseña123</td>\n",
       "      <td>2025-07-20 13:38:08.866966</td>\n",
       "    </tr>\n",
       "  </tbody>\n",
       "</table>\n",
       "</div>"
      ],
      "text/plain": [
       "   UsuarioID        Nombre   Apellido       dni  \\\n",
       "0          1       Encarna    Donaire  49877134   \n",
       "1          2  Jose Ignacio    Canales  98778810   \n",
       "2          3          José  Sebastián  80095714   \n",
       "3          4      Priscila      Vilar  94128750   \n",
       "4          5      Epifanio       Ríos  62958342   \n",
       "\n",
       "                             Email     Contraseña              FechaRegistro  \n",
       "0      encarna.donaire1@correo.com  Contraseña123 2025-07-20 13:38:08.843842  \n",
       "1  joseignacio.canales2@correo.com  Contraseña123 2025-07-20 13:38:08.865956  \n",
       "2       jose.sebastian3@correo.com  Contraseña123 2025-07-20 13:38:08.866966  \n",
       "3       priscila.vilar4@correo.com  Contraseña123 2025-07-20 13:38:08.866966  \n",
       "4        epifanio.rios5@correo.com  Contraseña123 2025-07-20 13:38:08.866966  "
      ]
     },
     "execution_count": 8,
     "metadata": {},
     "output_type": "execute_result"
    }
   ],
   "source": [
    "# La tabla Usuarios almacena información de los usuarios registrados en la plataforma de e-commerce. Cada fila representa un usuario único.\n",
    "sql_query = 'SELECT * FROM \"Usuarios\";'\n",
    "df_usuarios = pd.read_sql(sql_query, engine)\n",
    "df_usuarios.head()"
   ]
  },
  {
   "cell_type": "code",
   "execution_count": 9,
   "id": "f4a55155",
   "metadata": {},
   "outputs": [
    {
     "name": "stdout",
     "output_type": "stream",
     "text": [
      "('UsuarioID', 'integer', 'NO')\n",
      "('Nombre', 'character varying', 'NO')\n",
      "('Apellido', 'character varying', 'NO')\n",
      "('dni', 'character varying', 'NO')\n",
      "('Email', 'character varying', 'NO')\n",
      "('Contraseña', 'character varying', 'NO')\n",
      "('FechaRegistro', 'timestamp without time zone', 'YES')\n"
     ]
    }
   ],
   "source": [
    "# Contenido de la tabla Usuarios\n",
    "contenido_usuarios = session.execute(text(\"\"\"\n",
    "    SELECT \n",
    "        column_name, \n",
    "        data_type, \n",
    "        is_nullable\n",
    "    FROM information_schema.columns\n",
    "    WHERE table_name = 'Usuarios';\n",
    "\"\"\"))\n",
    "\n",
    "for contenido in contenido_usuarios:\n",
    "    print(contenido)"
   ]
  },
  {
   "cell_type": "markdown",
   "id": "f14d5c1a",
   "metadata": {},
   "source": [
    "### Estructura y contenido tabla Categorias "
   ]
  },
  {
   "cell_type": "code",
   "execution_count": 10,
   "id": "68fa9fea",
   "metadata": {},
   "outputs": [
    {
     "data": {
      "application/vnd.microsoft.datawrangler.viewer.v0+json": {
       "columns": [
        {
         "name": "index",
         "rawType": "int64",
         "type": "integer"
        },
        {
         "name": "CategoriaID",
         "rawType": "int64",
         "type": "integer"
        },
        {
         "name": "Nombre",
         "rawType": "object",
         "type": "string"
        },
        {
         "name": "Descripcion",
         "rawType": "object",
         "type": "string"
        }
       ],
       "ref": "48164a7f-65c1-4be4-a0e6-2671c7d18c4f",
       "rows": [
        [
         "0",
         "1",
         "Electrónica",
         "Teléfonos, computadoras, accesorios y dispositivos inteligentes"
        ],
        [
         "1",
         "2",
         "Moda",
         "Ropa, calzado, bolsos y accesorios para hombres, mujeres y niños"
        ],
        [
         "2",
         "3",
         "Hogar y Cocina",
         "Muebles, electrodomésticos, utensilios y decoración"
        ],
        [
         "3",
         "4",
         "Deportes y Aire Libre",
         "Equipamiento, ropa deportiva y artículos para actividades al aire libre"
        ],
        [
         "4",
         "5",
         "Belleza y Cuidado Personal",
         "Cosméticos, productos para el cabello, piel y aseo personal"
        ]
       ],
       "shape": {
        "columns": 3,
        "rows": 5
       }
      },
      "text/html": [
       "<div>\n",
       "<style scoped>\n",
       "    .dataframe tbody tr th:only-of-type {\n",
       "        vertical-align: middle;\n",
       "    }\n",
       "\n",
       "    .dataframe tbody tr th {\n",
       "        vertical-align: top;\n",
       "    }\n",
       "\n",
       "    .dataframe thead th {\n",
       "        text-align: right;\n",
       "    }\n",
       "</style>\n",
       "<table border=\"1\" class=\"dataframe\">\n",
       "  <thead>\n",
       "    <tr style=\"text-align: right;\">\n",
       "      <th></th>\n",
       "      <th>CategoriaID</th>\n",
       "      <th>Nombre</th>\n",
       "      <th>Descripcion</th>\n",
       "    </tr>\n",
       "  </thead>\n",
       "  <tbody>\n",
       "    <tr>\n",
       "      <th>0</th>\n",
       "      <td>1</td>\n",
       "      <td>Electrónica</td>\n",
       "      <td>Teléfonos, computadoras, accesorios y disposit...</td>\n",
       "    </tr>\n",
       "    <tr>\n",
       "      <th>1</th>\n",
       "      <td>2</td>\n",
       "      <td>Moda</td>\n",
       "      <td>Ropa, calzado, bolsos y accesorios para hombre...</td>\n",
       "    </tr>\n",
       "    <tr>\n",
       "      <th>2</th>\n",
       "      <td>3</td>\n",
       "      <td>Hogar y Cocina</td>\n",
       "      <td>Muebles, electrodomésticos, utensilios y decor...</td>\n",
       "    </tr>\n",
       "    <tr>\n",
       "      <th>3</th>\n",
       "      <td>4</td>\n",
       "      <td>Deportes y Aire Libre</td>\n",
       "      <td>Equipamiento, ropa deportiva y artículos para ...</td>\n",
       "    </tr>\n",
       "    <tr>\n",
       "      <th>4</th>\n",
       "      <td>5</td>\n",
       "      <td>Belleza y Cuidado Personal</td>\n",
       "      <td>Cosméticos, productos para el cabello, piel y ...</td>\n",
       "    </tr>\n",
       "  </tbody>\n",
       "</table>\n",
       "</div>"
      ],
      "text/plain": [
       "   CategoriaID                      Nombre  \\\n",
       "0            1                 Electrónica   \n",
       "1            2                        Moda   \n",
       "2            3              Hogar y Cocina   \n",
       "3            4       Deportes y Aire Libre   \n",
       "4            5  Belleza y Cuidado Personal   \n",
       "\n",
       "                                         Descripcion  \n",
       "0  Teléfonos, computadoras, accesorios y disposit...  \n",
       "1  Ropa, calzado, bolsos y accesorios para hombre...  \n",
       "2  Muebles, electrodomésticos, utensilios y decor...  \n",
       "3  Equipamiento, ropa deportiva y artículos para ...  \n",
       "4  Cosméticos, productos para el cabello, piel y ...  "
      ]
     },
     "execution_count": 10,
     "metadata": {},
     "output_type": "execute_result"
    }
   ],
   "source": [
    "#La tabla Categorias almacena información de las diferentes categorias registradas en la plataforma e-commerce\n",
    "sql_query = 'SELECT * FROM \"Categorias\";'\n",
    "df_categorias = pd.read_sql(sql_query, engine)\n",
    "df_categorias.head()"
   ]
  },
  {
   "cell_type": "code",
   "execution_count": 11,
   "id": "6aaa7b00",
   "metadata": {},
   "outputs": [
    {
     "name": "stdout",
     "output_type": "stream",
     "text": [
      "('CategoriaID', 'integer', 'NO')\n",
      "('Nombre', 'character varying', 'NO')\n",
      "('Descripcion', 'character varying', 'NO')\n"
     ]
    }
   ],
   "source": [
    "#Contenido de la tabla Categorias \n",
    "contenido_categorias = session.execute(text(\"\"\" \n",
    "    SELECT \n",
    "        column_name,\n",
    "        data_type,\n",
    "        is_nullable\n",
    "    FROM information_schema.columns\n",
    "    WHERE table_name = 'Categorias';\n",
    "\"\"\"))\n",
    "\n",
    "for contenido in contenido_categorias:\n",
    "    print(contenido)"
   ]
  },
  {
   "cell_type": "markdown",
   "id": "a6759ac2",
   "metadata": {},
   "source": [
    "### Estructura y contendio tabla Productos"
   ]
  },
  {
   "cell_type": "code",
   "execution_count": 12,
   "id": "e50c3169",
   "metadata": {},
   "outputs": [
    {
     "data": {
      "application/vnd.microsoft.datawrangler.viewer.v0+json": {
       "columns": [
        {
         "name": "index",
         "rawType": "int64",
         "type": "integer"
        },
        {
         "name": "ProductoID",
         "rawType": "int64",
         "type": "integer"
        },
        {
         "name": "Nombre",
         "rawType": "object",
         "type": "string"
        },
        {
         "name": "Descripcion",
         "rawType": "object",
         "type": "string"
        },
        {
         "name": "Precio",
         "rawType": "float64",
         "type": "float"
        },
        {
         "name": "Stock",
         "rawType": "int64",
         "type": "integer"
        },
        {
         "name": "CategoriaID",
         "rawType": "int64",
         "type": "integer"
        }
       ],
       "ref": "ee9569ac-2da8-4b2d-b5ca-5bbd1915865e",
       "rows": [
        [
         "0",
         "1",
         "Smartphone Galaxy A54",
         "Teléfono inteligente con pantalla AMOLED y cámara triple.",
         "349.99",
         "50",
         "1"
        ],
        [
         "1",
         "2",
         "Laptop Dell Inspiron 15",
         "Laptop para trabajo y estudio con procesador Intel i5.",
         "799.0",
         "30",
         "1"
        ],
        [
         "2",
         "3",
         "Auriculares Bluetooth Sony",
         "Auriculares inalámbricos con cancelación de ruido.",
         "129.99",
         "100",
         "1"
        ],
        [
         "3",
         "4",
         "Camiseta Básica Hombre",
         "Camiseta de algodón 100% disponible en varias tallas.",
         "14.99",
         "200",
         "2"
        ],
        [
         "4",
         "5",
         "Jeans Skinny Mujer",
         "Jeans corte skinny de mezclilla azul.",
         "39.99",
         "150",
         "2"
        ]
       ],
       "shape": {
        "columns": 6,
        "rows": 5
       }
      },
      "text/html": [
       "<div>\n",
       "<style scoped>\n",
       "    .dataframe tbody tr th:only-of-type {\n",
       "        vertical-align: middle;\n",
       "    }\n",
       "\n",
       "    .dataframe tbody tr th {\n",
       "        vertical-align: top;\n",
       "    }\n",
       "\n",
       "    .dataframe thead th {\n",
       "        text-align: right;\n",
       "    }\n",
       "</style>\n",
       "<table border=\"1\" class=\"dataframe\">\n",
       "  <thead>\n",
       "    <tr style=\"text-align: right;\">\n",
       "      <th></th>\n",
       "      <th>ProductoID</th>\n",
       "      <th>Nombre</th>\n",
       "      <th>Descripcion</th>\n",
       "      <th>Precio</th>\n",
       "      <th>Stock</th>\n",
       "      <th>CategoriaID</th>\n",
       "    </tr>\n",
       "  </thead>\n",
       "  <tbody>\n",
       "    <tr>\n",
       "      <th>0</th>\n",
       "      <td>1</td>\n",
       "      <td>Smartphone Galaxy A54</td>\n",
       "      <td>Teléfono inteligente con pantalla AMOLED y cám...</td>\n",
       "      <td>349.99</td>\n",
       "      <td>50</td>\n",
       "      <td>1</td>\n",
       "    </tr>\n",
       "    <tr>\n",
       "      <th>1</th>\n",
       "      <td>2</td>\n",
       "      <td>Laptop Dell Inspiron 15</td>\n",
       "      <td>Laptop para trabajo y estudio con procesador I...</td>\n",
       "      <td>799.00</td>\n",
       "      <td>30</td>\n",
       "      <td>1</td>\n",
       "    </tr>\n",
       "    <tr>\n",
       "      <th>2</th>\n",
       "      <td>3</td>\n",
       "      <td>Auriculares Bluetooth Sony</td>\n",
       "      <td>Auriculares inalámbricos con cancelación de ru...</td>\n",
       "      <td>129.99</td>\n",
       "      <td>100</td>\n",
       "      <td>1</td>\n",
       "    </tr>\n",
       "    <tr>\n",
       "      <th>3</th>\n",
       "      <td>4</td>\n",
       "      <td>Camiseta Básica Hombre</td>\n",
       "      <td>Camiseta de algodón 100% disponible en varias ...</td>\n",
       "      <td>14.99</td>\n",
       "      <td>200</td>\n",
       "      <td>2</td>\n",
       "    </tr>\n",
       "    <tr>\n",
       "      <th>4</th>\n",
       "      <td>5</td>\n",
       "      <td>Jeans Skinny Mujer</td>\n",
       "      <td>Jeans corte skinny de mezclilla azul.</td>\n",
       "      <td>39.99</td>\n",
       "      <td>150</td>\n",
       "      <td>2</td>\n",
       "    </tr>\n",
       "  </tbody>\n",
       "</table>\n",
       "</div>"
      ],
      "text/plain": [
       "   ProductoID                      Nombre  \\\n",
       "0           1       Smartphone Galaxy A54   \n",
       "1           2     Laptop Dell Inspiron 15   \n",
       "2           3  Auriculares Bluetooth Sony   \n",
       "3           4      Camiseta Básica Hombre   \n",
       "4           5          Jeans Skinny Mujer   \n",
       "\n",
       "                                         Descripcion  Precio  Stock  \\\n",
       "0  Teléfono inteligente con pantalla AMOLED y cám...  349.99     50   \n",
       "1  Laptop para trabajo y estudio con procesador I...  799.00     30   \n",
       "2  Auriculares inalámbricos con cancelación de ru...  129.99    100   \n",
       "3  Camiseta de algodón 100% disponible en varias ...   14.99    200   \n",
       "4              Jeans corte skinny de mezclilla azul.   39.99    150   \n",
       "\n",
       "   CategoriaID  \n",
       "0            1  \n",
       "1            1  \n",
       "2            1  \n",
       "3            2  \n",
       "4            2  "
      ]
     },
     "execution_count": 12,
     "metadata": {},
     "output_type": "execute_result"
    }
   ],
   "source": [
    "#La tabla Productos almacena información de los produtos registrados en la plataforma e-commerce así como el stock disponible en almacén,\n",
    "# una pequeña descripción del producto, a que categoria pertenece y el precio. \n",
    "sql_query = 'SELECT * FROM \"Productos\";'\n",
    "df_productos = pd.read_sql(sql_query, engine)\n",
    "df_productos.head()"
   ]
  },
  {
   "cell_type": "code",
   "execution_count": 13,
   "id": "390ed8fd",
   "metadata": {},
   "outputs": [
    {
     "name": "stdout",
     "output_type": "stream",
     "text": [
      "('ProductoID', 'integer', 'NO')\n",
      "('Nombre', 'character varying', 'NO')\n",
      "('Descripcion', 'character varying', 'NO')\n",
      "('Precio', 'numeric', 'NO')\n",
      "('Stock', 'integer', 'NO')\n",
      "('CategoriaID', 'integer', 'NO')\n"
     ]
    }
   ],
   "source": [
    "#Contenido de la yabla productos \n",
    "contenido_productos = session.execute(text(\"\"\"\n",
    "    SELECT \n",
    "    column_name, \n",
    "    data_type,\n",
    "    is_nullable\n",
    "    FROM information_schema.columns\n",
    "    WHERE table_name = 'Productos';                                      \n",
    "\"\"\"))\n",
    "\n",
    "for contenido in contenido_productos:\n",
    "    print(contenido)"
   ]
  },
  {
   "cell_type": "markdown",
   "id": "ed78f9d6",
   "metadata": {},
   "source": [
    "### Estructura y contenido tabla Ordenes"
   ]
  },
  {
   "cell_type": "code",
   "execution_count": 14,
   "id": "510d3714",
   "metadata": {},
   "outputs": [
    {
     "data": {
      "application/vnd.microsoft.datawrangler.viewer.v0+json": {
       "columns": [
        {
         "name": "index",
         "rawType": "int64",
         "type": "integer"
        },
        {
         "name": "OrdenID",
         "rawType": "int64",
         "type": "integer"
        },
        {
         "name": "UsuarioID",
         "rawType": "int64",
         "type": "integer"
        },
        {
         "name": "FechaOrden",
         "rawType": "datetime64[ns]",
         "type": "datetime"
        },
        {
         "name": "Total",
         "rawType": "float64",
         "type": "float"
        },
        {
         "name": "Estado",
         "rawType": "object",
         "type": "string"
        }
       ],
       "ref": "05a798e1-5d45-411c-aef5-7b70390519a4",
       "rows": [
        [
         "0",
         "1",
         "153",
         "2024-09-09 09:10:27",
         "393.81",
         "Enviado"
        ],
        [
         "1",
         "2",
         "810",
         "2024-09-29 09:10:27",
         "918.85",
         "Completado"
        ],
        [
         "2",
         "3",
         "404",
         "2024-11-03 09:10:27",
         "391.29",
         "Pendiente"
        ],
        [
         "3",
         "4",
         "52",
         "2024-09-14 09:10:27",
         "250.03",
         "Cancelado"
        ],
        [
         "4",
         "5",
         "811",
         "2025-04-11 09:10:27",
         "983.13",
         "Completado"
        ]
       ],
       "shape": {
        "columns": 5,
        "rows": 5
       }
      },
      "text/html": [
       "<div>\n",
       "<style scoped>\n",
       "    .dataframe tbody tr th:only-of-type {\n",
       "        vertical-align: middle;\n",
       "    }\n",
       "\n",
       "    .dataframe tbody tr th {\n",
       "        vertical-align: top;\n",
       "    }\n",
       "\n",
       "    .dataframe thead th {\n",
       "        text-align: right;\n",
       "    }\n",
       "</style>\n",
       "<table border=\"1\" class=\"dataframe\">\n",
       "  <thead>\n",
       "    <tr style=\"text-align: right;\">\n",
       "      <th></th>\n",
       "      <th>OrdenID</th>\n",
       "      <th>UsuarioID</th>\n",
       "      <th>FechaOrden</th>\n",
       "      <th>Total</th>\n",
       "      <th>Estado</th>\n",
       "    </tr>\n",
       "  </thead>\n",
       "  <tbody>\n",
       "    <tr>\n",
       "      <th>0</th>\n",
       "      <td>1</td>\n",
       "      <td>153</td>\n",
       "      <td>2024-09-09 09:10:27</td>\n",
       "      <td>393.81</td>\n",
       "      <td>Enviado</td>\n",
       "    </tr>\n",
       "    <tr>\n",
       "      <th>1</th>\n",
       "      <td>2</td>\n",
       "      <td>810</td>\n",
       "      <td>2024-09-29 09:10:27</td>\n",
       "      <td>918.85</td>\n",
       "      <td>Completado</td>\n",
       "    </tr>\n",
       "    <tr>\n",
       "      <th>2</th>\n",
       "      <td>3</td>\n",
       "      <td>404</td>\n",
       "      <td>2024-11-03 09:10:27</td>\n",
       "      <td>391.29</td>\n",
       "      <td>Pendiente</td>\n",
       "    </tr>\n",
       "    <tr>\n",
       "      <th>3</th>\n",
       "      <td>4</td>\n",
       "      <td>52</td>\n",
       "      <td>2024-09-14 09:10:27</td>\n",
       "      <td>250.03</td>\n",
       "      <td>Cancelado</td>\n",
       "    </tr>\n",
       "    <tr>\n",
       "      <th>4</th>\n",
       "      <td>5</td>\n",
       "      <td>811</td>\n",
       "      <td>2025-04-11 09:10:27</td>\n",
       "      <td>983.13</td>\n",
       "      <td>Completado</td>\n",
       "    </tr>\n",
       "  </tbody>\n",
       "</table>\n",
       "</div>"
      ],
      "text/plain": [
       "   OrdenID  UsuarioID          FechaOrden   Total      Estado\n",
       "0        1        153 2024-09-09 09:10:27  393.81     Enviado\n",
       "1        2        810 2024-09-29 09:10:27  918.85  Completado\n",
       "2        3        404 2024-11-03 09:10:27  391.29   Pendiente\n",
       "3        4         52 2024-09-14 09:10:27  250.03   Cancelado\n",
       "4        5        811 2025-04-11 09:10:27  983.13  Completado"
      ]
     },
     "execution_count": 14,
     "metadata": {},
     "output_type": "execute_result"
    }
   ],
   "source": [
    "# La tabla Ordenes almacen a información de las ordenes realizadas por usuario, la fecha en que se realizo y en que estado se encuentra,}\n",
    "# ya que incluso la orden de compra puede estar cancelada y ese registro se actualiza en esta tabla \n",
    "sql_query = 'SELECT * FROM \"Ordenes\"'\n",
    "df_ordenes = pd.read_sql(sql_query, engine)\n",
    "df_ordenes.head()"
   ]
  },
  {
   "cell_type": "code",
   "execution_count": 15,
   "id": "7fbf8fc5",
   "metadata": {},
   "outputs": [
    {
     "name": "stdout",
     "output_type": "stream",
     "text": [
      "('OrdenID', 'integer', 'NO')\n",
      "('UsuarioID', 'integer', 'NO')\n",
      "('FechaOrden', 'timestamp without time zone', 'YES')\n",
      "('Total', 'numeric', 'NO')\n",
      "('Estado', 'character varying', 'NO')\n"
     ]
    }
   ],
   "source": [
    "#Contenido de la tabla Ordenes\n",
    "contenido_ordenes = session.execute(text(\"\"\"\n",
    "    SELECT \n",
    "    column_name,\n",
    "    data_type,\n",
    "    is_nullable\n",
    "    FROM information_schema.columns\n",
    "    WHERE table_name = 'Ordenes';\n",
    "\"\"\"))\n",
    "\n",
    "for contenido in contenido_ordenes:\n",
    "    print(contenido)"
   ]
  },
  {
   "cell_type": "markdown",
   "id": "8af03652",
   "metadata": {},
   "source": [
    "### Estructura y contenido tabla Detalle Ordenes "
   ]
  },
  {
   "cell_type": "code",
   "execution_count": 16,
   "id": "6539a033",
   "metadata": {},
   "outputs": [
    {
     "data": {
      "application/vnd.microsoft.datawrangler.viewer.v0+json": {
       "columns": [
        {
         "name": "index",
         "rawType": "int64",
         "type": "integer"
        },
        {
         "name": "DetalleID",
         "rawType": "int64",
         "type": "integer"
        },
        {
         "name": "OrdenID",
         "rawType": "int64",
         "type": "integer"
        },
        {
         "name": "ProductoID",
         "rawType": "int64",
         "type": "integer"
        },
        {
         "name": "Cantidad",
         "rawType": "int64",
         "type": "integer"
        },
        {
         "name": "PrecioUnitario",
         "rawType": "float64",
         "type": "float"
        }
       ],
       "ref": "5ff04b60-ab6b-4abf-9587-dc17152b7f0c",
       "rows": [
        [
         "0",
         "1",
         "833",
         "33",
         "1",
         "425.26"
        ],
        [
         "1",
         "2",
         "657",
         "21",
         "4",
         "307.13"
        ],
        [
         "2",
         "3",
         "911",
         "15",
         "4",
         "444.75"
        ],
        [
         "3",
         "4",
         "818",
         "26",
         "5",
         "346.24"
        ],
        [
         "4",
         "5",
         "695",
         "12",
         "3",
         "155.05"
        ]
       ],
       "shape": {
        "columns": 5,
        "rows": 5
       }
      },
      "text/html": [
       "<div>\n",
       "<style scoped>\n",
       "    .dataframe tbody tr th:only-of-type {\n",
       "        vertical-align: middle;\n",
       "    }\n",
       "\n",
       "    .dataframe tbody tr th {\n",
       "        vertical-align: top;\n",
       "    }\n",
       "\n",
       "    .dataframe thead th {\n",
       "        text-align: right;\n",
       "    }\n",
       "</style>\n",
       "<table border=\"1\" class=\"dataframe\">\n",
       "  <thead>\n",
       "    <tr style=\"text-align: right;\">\n",
       "      <th></th>\n",
       "      <th>DetalleID</th>\n",
       "      <th>OrdenID</th>\n",
       "      <th>ProductoID</th>\n",
       "      <th>Cantidad</th>\n",
       "      <th>PrecioUnitario</th>\n",
       "    </tr>\n",
       "  </thead>\n",
       "  <tbody>\n",
       "    <tr>\n",
       "      <th>0</th>\n",
       "      <td>1</td>\n",
       "      <td>833</td>\n",
       "      <td>33</td>\n",
       "      <td>1</td>\n",
       "      <td>425.26</td>\n",
       "    </tr>\n",
       "    <tr>\n",
       "      <th>1</th>\n",
       "      <td>2</td>\n",
       "      <td>657</td>\n",
       "      <td>21</td>\n",
       "      <td>4</td>\n",
       "      <td>307.13</td>\n",
       "    </tr>\n",
       "    <tr>\n",
       "      <th>2</th>\n",
       "      <td>3</td>\n",
       "      <td>911</td>\n",
       "      <td>15</td>\n",
       "      <td>4</td>\n",
       "      <td>444.75</td>\n",
       "    </tr>\n",
       "    <tr>\n",
       "      <th>3</th>\n",
       "      <td>4</td>\n",
       "      <td>818</td>\n",
       "      <td>26</td>\n",
       "      <td>5</td>\n",
       "      <td>346.24</td>\n",
       "    </tr>\n",
       "    <tr>\n",
       "      <th>4</th>\n",
       "      <td>5</td>\n",
       "      <td>695</td>\n",
       "      <td>12</td>\n",
       "      <td>3</td>\n",
       "      <td>155.05</td>\n",
       "    </tr>\n",
       "  </tbody>\n",
       "</table>\n",
       "</div>"
      ],
      "text/plain": [
       "   DetalleID  OrdenID  ProductoID  Cantidad  PrecioUnitario\n",
       "0          1      833          33         1          425.26\n",
       "1          2      657          21         4          307.13\n",
       "2          3      911          15         4          444.75\n",
       "3          4      818          26         5          346.24\n",
       "4          5      695          12         3          155.05"
      ]
     },
     "execution_count": 16,
     "metadata": {},
     "output_type": "execute_result"
    }
   ],
   "source": [
    "# La tabla DetalleOrdenes almacena información especifica de las ordenes, producto, cantidad y el precio unitario\n",
    "sql_query = ' SELECT * FROM \"DetalleOrdenes\"'\n",
    "df_detalle_ordenes = pd.read_sql(sql_query, engine)\n",
    "df_detalle_ordenes.head()"
   ]
  },
  {
   "cell_type": "code",
   "execution_count": 17,
   "id": "889a3f39",
   "metadata": {},
   "outputs": [
    {
     "name": "stdout",
     "output_type": "stream",
     "text": [
      "('DetalleID', 'integer', 'NO')\n",
      "('OrdenID', 'integer', 'NO')\n",
      "('ProductoID', 'integer', 'NO')\n",
      "('Cantidad', 'integer', 'NO')\n",
      "('PrecioUnitario', 'numeric', 'NO')\n"
     ]
    }
   ],
   "source": [
    "#Contenido de tabla DetalleOrdenes \n",
    "contenido_detalle_ordenes = session.execute(text(\"\"\"\n",
    "    SELECT \n",
    "    column_name, \n",
    "    data_type,\n",
    "    is_nullable\n",
    "    FROM information_schema.columns\n",
    "    WHERE table_name = 'DetalleOrdenes'\n",
    "\"\"\"))\n",
    "\n",
    "for contenido in contenido_detalle_ordenes:\n",
    "    print(contenido)"
   ]
  },
  {
   "cell_type": "markdown",
   "id": "fe796d79",
   "metadata": {},
   "source": [
    "### Estructura y contenido Direcciones Envio "
   ]
  },
  {
   "cell_type": "code",
   "execution_count": 18,
   "id": "eb6a96f2",
   "metadata": {},
   "outputs": [
    {
     "data": {
      "application/vnd.microsoft.datawrangler.viewer.v0+json": {
       "columns": [
        {
         "name": "index",
         "rawType": "int64",
         "type": "integer"
        },
        {
         "name": "DireccionID",
         "rawType": "int64",
         "type": "integer"
        },
        {
         "name": "UsuarioID",
         "rawType": "int64",
         "type": "integer"
        },
        {
         "name": "Calle",
         "rawType": "object",
         "type": "string"
        },
        {
         "name": "Ciudad",
         "rawType": "object",
         "type": "string"
        },
        {
         "name": "Departamento",
         "rawType": "object",
         "type": "string"
        },
        {
         "name": "Provincia",
         "rawType": "object",
         "type": "string"
        },
        {
         "name": "Distrito",
         "rawType": "object",
         "type": "string"
        },
        {
         "name": "Estado",
         "rawType": "object",
         "type": "string"
        },
        {
         "name": "CodigoPostal",
         "rawType": "object",
         "type": "string"
        },
        {
         "name": "Pais",
         "rawType": "object",
         "type": "string"
        }
       ],
       "ref": "c71c2b19-6d1b-4cfb-9e40-06d0a8a422b7",
       "rows": [
        [
         "0",
         "1",
         "1",
         "Diagonal Chilecito N° 335",
         "Comodoro Rivadavia",
         "Mendoza",
         "Mendoza",
         "Recoleta",
         "Mendoza",
         "10044733",
         "Argentina"
        ],
        [
         "1",
         "2",
         "2",
         "Diagonal Río Negro N° 497",
         "Rawson",
         "Tierra del Fuego",
         "Tierra del Fuego",
         "Palermo",
         "Tierra del Fuego",
         "76007280",
         "Argentina"
        ],
        [
         "2",
         "3",
         "3",
         "Blv. Formosa N° 118",
         "Mar del Plata",
         "Salta",
         "Salta",
         "Barracas",
         "Salta",
         "53604249",
         "Argentina"
        ],
        [
         "3",
         "4",
         "4",
         "Avenida La Rioja N° 612",
         "San Juan",
         "Neuquén",
         "Neuquén",
         "Flores",
         "Neuquén",
         "91031542",
         "Argentina"
        ],
        [
         "4",
         "5",
         "5",
         "Calle Neuquén N° 535",
         "San Juan",
         "Catamarca",
         "Catamarca",
         "Barracas",
         "Catamarca",
         "33002152",
         "Argentina"
        ]
       ],
       "shape": {
        "columns": 10,
        "rows": 5
       }
      },
      "text/html": [
       "<div>\n",
       "<style scoped>\n",
       "    .dataframe tbody tr th:only-of-type {\n",
       "        vertical-align: middle;\n",
       "    }\n",
       "\n",
       "    .dataframe tbody tr th {\n",
       "        vertical-align: top;\n",
       "    }\n",
       "\n",
       "    .dataframe thead th {\n",
       "        text-align: right;\n",
       "    }\n",
       "</style>\n",
       "<table border=\"1\" class=\"dataframe\">\n",
       "  <thead>\n",
       "    <tr style=\"text-align: right;\">\n",
       "      <th></th>\n",
       "      <th>DireccionID</th>\n",
       "      <th>UsuarioID</th>\n",
       "      <th>Calle</th>\n",
       "      <th>Ciudad</th>\n",
       "      <th>Departamento</th>\n",
       "      <th>Provincia</th>\n",
       "      <th>Distrito</th>\n",
       "      <th>Estado</th>\n",
       "      <th>CodigoPostal</th>\n",
       "      <th>Pais</th>\n",
       "    </tr>\n",
       "  </thead>\n",
       "  <tbody>\n",
       "    <tr>\n",
       "      <th>0</th>\n",
       "      <td>1</td>\n",
       "      <td>1</td>\n",
       "      <td>Diagonal Chilecito N° 335</td>\n",
       "      <td>Comodoro Rivadavia</td>\n",
       "      <td>Mendoza</td>\n",
       "      <td>Mendoza</td>\n",
       "      <td>Recoleta</td>\n",
       "      <td>Mendoza</td>\n",
       "      <td>10044733</td>\n",
       "      <td>Argentina</td>\n",
       "    </tr>\n",
       "    <tr>\n",
       "      <th>1</th>\n",
       "      <td>2</td>\n",
       "      <td>2</td>\n",
       "      <td>Diagonal Río Negro N° 497</td>\n",
       "      <td>Rawson</td>\n",
       "      <td>Tierra del Fuego</td>\n",
       "      <td>Tierra del Fuego</td>\n",
       "      <td>Palermo</td>\n",
       "      <td>Tierra del Fuego</td>\n",
       "      <td>76007280</td>\n",
       "      <td>Argentina</td>\n",
       "    </tr>\n",
       "    <tr>\n",
       "      <th>2</th>\n",
       "      <td>3</td>\n",
       "      <td>3</td>\n",
       "      <td>Blv. Formosa N° 118</td>\n",
       "      <td>Mar del Plata</td>\n",
       "      <td>Salta</td>\n",
       "      <td>Salta</td>\n",
       "      <td>Barracas</td>\n",
       "      <td>Salta</td>\n",
       "      <td>53604249</td>\n",
       "      <td>Argentina</td>\n",
       "    </tr>\n",
       "    <tr>\n",
       "      <th>3</th>\n",
       "      <td>4</td>\n",
       "      <td>4</td>\n",
       "      <td>Avenida La Rioja N° 612</td>\n",
       "      <td>San Juan</td>\n",
       "      <td>Neuquén</td>\n",
       "      <td>Neuquén</td>\n",
       "      <td>Flores</td>\n",
       "      <td>Neuquén</td>\n",
       "      <td>91031542</td>\n",
       "      <td>Argentina</td>\n",
       "    </tr>\n",
       "    <tr>\n",
       "      <th>4</th>\n",
       "      <td>5</td>\n",
       "      <td>5</td>\n",
       "      <td>Calle Neuquén N° 535</td>\n",
       "      <td>San Juan</td>\n",
       "      <td>Catamarca</td>\n",
       "      <td>Catamarca</td>\n",
       "      <td>Barracas</td>\n",
       "      <td>Catamarca</td>\n",
       "      <td>33002152</td>\n",
       "      <td>Argentina</td>\n",
       "    </tr>\n",
       "  </tbody>\n",
       "</table>\n",
       "</div>"
      ],
      "text/plain": [
       "   DireccionID  UsuarioID                      Calle              Ciudad  \\\n",
       "0            1          1  Diagonal Chilecito N° 335  Comodoro Rivadavia   \n",
       "1            2          2  Diagonal Río Negro N° 497              Rawson   \n",
       "2            3          3        Blv. Formosa N° 118       Mar del Plata   \n",
       "3            4          4    Avenida La Rioja N° 612            San Juan   \n",
       "4            5          5       Calle Neuquén N° 535            San Juan   \n",
       "\n",
       "       Departamento         Provincia  Distrito            Estado  \\\n",
       "0           Mendoza           Mendoza  Recoleta           Mendoza   \n",
       "1  Tierra del Fuego  Tierra del Fuego   Palermo  Tierra del Fuego   \n",
       "2             Salta             Salta  Barracas             Salta   \n",
       "3           Neuquén           Neuquén    Flores           Neuquén   \n",
       "4         Catamarca         Catamarca  Barracas         Catamarca   \n",
       "\n",
       "  CodigoPostal       Pais  \n",
       "0     10044733  Argentina  \n",
       "1     76007280  Argentina  \n",
       "2     53604249  Argentina  \n",
       "3     91031542  Argentina  \n",
       "4     33002152  Argentina  "
      ]
     },
     "execution_count": 18,
     "metadata": {},
     "output_type": "execute_result"
    }
   ],
   "source": [
    "# La tabla Direcciones Envio, almacena información especifica de los Usuarios registrados en la plataforma de e-commerce\n",
    "sql_query = ' SELECT * FROM \"DireccionesEnvio\"'\n",
    "df_direcciones_envio = pd.read_sql(sql_query, engine)\n",
    "df_direcciones_envio.head()"
   ]
  },
  {
   "cell_type": "code",
   "execution_count": 19,
   "id": "174ce4b4",
   "metadata": {},
   "outputs": [
    {
     "name": "stdout",
     "output_type": "stream",
     "text": [
      "('DireccionID', 'integer', 'NO')\n",
      "('UsuarioID', 'integer', 'NO')\n",
      "('Calle', 'character varying', 'NO')\n",
      "('Ciudad', 'character varying', 'NO')\n",
      "('Departamento', 'character varying', 'YES')\n",
      "('Provincia', 'character varying', 'YES')\n",
      "('Distrito', 'character varying', 'YES')\n",
      "('Estado', 'character varying', 'YES')\n",
      "('CodigoPostal', 'character varying', 'YES')\n",
      "('Pais', 'character varying', 'NO')\n"
     ]
    }
   ],
   "source": [
    "#Contenido de la tabla DireccionesEnvio\n",
    "contenido_direcciones_envio = session.execute(text(\"\"\"\n",
    "    SELECT \n",
    "    column_name, \n",
    "    data_type,\n",
    "    is_nullable\n",
    "    FROM information_schema.columns\n",
    "    WHERE table_name = 'DireccionesEnvio'\n",
    "\"\"\"))\n",
    "\n",
    "for contenido in contenido_direcciones_envio:\n",
    "    print(contenido)"
   ]
  },
  {
   "cell_type": "markdown",
   "id": "2db563d7",
   "metadata": {},
   "source": [
    "### Estructura y contenido tabla Carrito"
   ]
  },
  {
   "cell_type": "code",
   "execution_count": 20,
   "id": "c9ae052d",
   "metadata": {},
   "outputs": [
    {
     "data": {
      "application/vnd.microsoft.datawrangler.viewer.v0+json": {
       "columns": [
        {
         "name": "index",
         "rawType": "int64",
         "type": "integer"
        },
        {
         "name": "CarritoID",
         "rawType": "int64",
         "type": "integer"
        },
        {
         "name": "UsuarioID",
         "rawType": "int64",
         "type": "integer"
        },
        {
         "name": "ProductoID",
         "rawType": "int64",
         "type": "integer"
        },
        {
         "name": "Cantidad",
         "rawType": "int64",
         "type": "integer"
        },
        {
         "name": "FechaAgregado",
         "rawType": "datetime64[ns]",
         "type": "datetime"
        }
       ],
       "ref": "aa1262ed-9f36-4dca-a399-7bb3380662fb",
       "rows": [
        [
         "0",
         "1",
         "844",
         "22",
         "3",
         "2025-04-29 10:15:10"
        ],
        [
         "1",
         "2",
         "901",
         "7",
         "2",
         "2025-05-14 10:15:10"
        ],
        [
         "2",
         "3",
         "824",
         "28",
         "1",
         "2025-04-26 10:15:10"
        ],
        [
         "3",
         "4",
         "94",
         "5",
         "3",
         "2025-04-20 10:15:10"
        ],
        [
         "4",
         "5",
         "228",
         "15",
         "3",
         "2025-05-11 10:15:10"
        ]
       ],
       "shape": {
        "columns": 5,
        "rows": 5
       }
      },
      "text/html": [
       "<div>\n",
       "<style scoped>\n",
       "    .dataframe tbody tr th:only-of-type {\n",
       "        vertical-align: middle;\n",
       "    }\n",
       "\n",
       "    .dataframe tbody tr th {\n",
       "        vertical-align: top;\n",
       "    }\n",
       "\n",
       "    .dataframe thead th {\n",
       "        text-align: right;\n",
       "    }\n",
       "</style>\n",
       "<table border=\"1\" class=\"dataframe\">\n",
       "  <thead>\n",
       "    <tr style=\"text-align: right;\">\n",
       "      <th></th>\n",
       "      <th>CarritoID</th>\n",
       "      <th>UsuarioID</th>\n",
       "      <th>ProductoID</th>\n",
       "      <th>Cantidad</th>\n",
       "      <th>FechaAgregado</th>\n",
       "    </tr>\n",
       "  </thead>\n",
       "  <tbody>\n",
       "    <tr>\n",
       "      <th>0</th>\n",
       "      <td>1</td>\n",
       "      <td>844</td>\n",
       "      <td>22</td>\n",
       "      <td>3</td>\n",
       "      <td>2025-04-29 10:15:10</td>\n",
       "    </tr>\n",
       "    <tr>\n",
       "      <th>1</th>\n",
       "      <td>2</td>\n",
       "      <td>901</td>\n",
       "      <td>7</td>\n",
       "      <td>2</td>\n",
       "      <td>2025-05-14 10:15:10</td>\n",
       "    </tr>\n",
       "    <tr>\n",
       "      <th>2</th>\n",
       "      <td>3</td>\n",
       "      <td>824</td>\n",
       "      <td>28</td>\n",
       "      <td>1</td>\n",
       "      <td>2025-04-26 10:15:10</td>\n",
       "    </tr>\n",
       "    <tr>\n",
       "      <th>3</th>\n",
       "      <td>4</td>\n",
       "      <td>94</td>\n",
       "      <td>5</td>\n",
       "      <td>3</td>\n",
       "      <td>2025-04-20 10:15:10</td>\n",
       "    </tr>\n",
       "    <tr>\n",
       "      <th>4</th>\n",
       "      <td>5</td>\n",
       "      <td>228</td>\n",
       "      <td>15</td>\n",
       "      <td>3</td>\n",
       "      <td>2025-05-11 10:15:10</td>\n",
       "    </tr>\n",
       "  </tbody>\n",
       "</table>\n",
       "</div>"
      ],
      "text/plain": [
       "   CarritoID  UsuarioID  ProductoID  Cantidad       FechaAgregado\n",
       "0          1        844          22         3 2025-04-29 10:15:10\n",
       "1          2        901           7         2 2025-05-14 10:15:10\n",
       "2          3        824          28         1 2025-04-26 10:15:10\n",
       "3          4         94           5         3 2025-04-20 10:15:10\n",
       "4          5        228          15         3 2025-05-11 10:15:10"
      ]
     },
     "execution_count": 20,
     "metadata": {},
     "output_type": "execute_result"
    }
   ],
   "source": [
    "#La tabla Carrito almacen información de la cantidad de productos que se han agregado al carrito por usuario y a fecha enla que se realizo \n",
    "sql_query = ' SELECT * FROM \"Carrito\"'\n",
    "df_carrito = pd.read_sql(sql_query, engine)\n",
    "df_carrito.head()"
   ]
  },
  {
   "cell_type": "code",
   "execution_count": 21,
   "id": "c7e83e61",
   "metadata": {},
   "outputs": [
    {
     "name": "stdout",
     "output_type": "stream",
     "text": [
      "('CarritoID', 'integer', 'NO')\n",
      "('UsuarioID', 'integer', 'NO')\n",
      "('ProductoID', 'integer', 'NO')\n",
      "('Cantidad', 'integer', 'NO')\n",
      "('FechaAgregado', 'timestamp without time zone', 'YES')\n"
     ]
    }
   ],
   "source": [
    "#Contenido de la tabla Carrito \n",
    "contenido_carrito = session.execute(text(\"\"\"\n",
    "    SELECT \n",
    "    column_name, \n",
    "    data_type, \n",
    "    is_nullable\n",
    "    FROM information_schema.columns\n",
    "    WHERE table_name = 'Carrito'\n",
    "\"\"\"))\n",
    "\n",
    "for contenido in contenido_carrito:\n",
    "    print(contenido)"
   ]
  },
  {
   "cell_type": "markdown",
   "id": "ae082c88",
   "metadata": {},
   "source": [
    "### Estructura y contenido tabla Metodos de pago"
   ]
  },
  {
   "cell_type": "code",
   "execution_count": 22,
   "id": "3ca9a361",
   "metadata": {},
   "outputs": [
    {
     "data": {
      "application/vnd.microsoft.datawrangler.viewer.v0+json": {
       "columns": [
        {
         "name": "index",
         "rawType": "int64",
         "type": "integer"
        },
        {
         "name": "MetodoPagoID",
         "rawType": "int64",
         "type": "integer"
        },
        {
         "name": "Nombre",
         "rawType": "object",
         "type": "string"
        },
        {
         "name": "Descripcion",
         "rawType": "object",
         "type": "string"
        }
       ],
       "ref": "efd3a918-812b-45ad-8297-d7caa3db5977",
       "rows": [
        [
         "0",
         "1",
         "Tarjeta de Crédito",
         "Pago con tarjeta de crédito VISA, MasterCard o American Express"
        ],
        [
         "1",
         "2",
         "Tarjeta de Débito",
         "Pago con tarjeta de débito emitida por cualquier banco"
        ],
        [
         "2",
         "3",
         "Transferencia Bancaria",
         "Transferencia directa a nuestra cuenta bancaria"
        ],
        [
         "3",
         "4",
         "Pago Contra Entrega",
         "Paga en efectivo cuando recibes tu pedido"
        ],
        [
         "4",
         "5",
         "Mercado Pago",
         "Pago a través de la pasarela Mercado Pago"
        ]
       ],
       "shape": {
        "columns": 3,
        "rows": 5
       }
      },
      "text/html": [
       "<div>\n",
       "<style scoped>\n",
       "    .dataframe tbody tr th:only-of-type {\n",
       "        vertical-align: middle;\n",
       "    }\n",
       "\n",
       "    .dataframe tbody tr th {\n",
       "        vertical-align: top;\n",
       "    }\n",
       "\n",
       "    .dataframe thead th {\n",
       "        text-align: right;\n",
       "    }\n",
       "</style>\n",
       "<table border=\"1\" class=\"dataframe\">\n",
       "  <thead>\n",
       "    <tr style=\"text-align: right;\">\n",
       "      <th></th>\n",
       "      <th>MetodoPagoID</th>\n",
       "      <th>Nombre</th>\n",
       "      <th>Descripcion</th>\n",
       "    </tr>\n",
       "  </thead>\n",
       "  <tbody>\n",
       "    <tr>\n",
       "      <th>0</th>\n",
       "      <td>1</td>\n",
       "      <td>Tarjeta de Crédito</td>\n",
       "      <td>Pago con tarjeta de crédito VISA, MasterCard o...</td>\n",
       "    </tr>\n",
       "    <tr>\n",
       "      <th>1</th>\n",
       "      <td>2</td>\n",
       "      <td>Tarjeta de Débito</td>\n",
       "      <td>Pago con tarjeta de débito emitida por cualqui...</td>\n",
       "    </tr>\n",
       "    <tr>\n",
       "      <th>2</th>\n",
       "      <td>3</td>\n",
       "      <td>Transferencia Bancaria</td>\n",
       "      <td>Transferencia directa a nuestra cuenta bancaria</td>\n",
       "    </tr>\n",
       "    <tr>\n",
       "      <th>3</th>\n",
       "      <td>4</td>\n",
       "      <td>Pago Contra Entrega</td>\n",
       "      <td>Paga en efectivo cuando recibes tu pedido</td>\n",
       "    </tr>\n",
       "    <tr>\n",
       "      <th>4</th>\n",
       "      <td>5</td>\n",
       "      <td>Mercado Pago</td>\n",
       "      <td>Pago a través de la pasarela Mercado Pago</td>\n",
       "    </tr>\n",
       "  </tbody>\n",
       "</table>\n",
       "</div>"
      ],
      "text/plain": [
       "   MetodoPagoID                  Nombre  \\\n",
       "0             1      Tarjeta de Crédito   \n",
       "1             2       Tarjeta de Débito   \n",
       "2             3  Transferencia Bancaria   \n",
       "3             4     Pago Contra Entrega   \n",
       "4             5            Mercado Pago   \n",
       "\n",
       "                                         Descripcion  \n",
       "0  Pago con tarjeta de crédito VISA, MasterCard o...  \n",
       "1  Pago con tarjeta de débito emitida por cualqui...  \n",
       "2    Transferencia directa a nuestra cuenta bancaria  \n",
       "3          Paga en efectivo cuando recibes tu pedido  \n",
       "4          Pago a través de la pasarela Mercado Pago  "
      ]
     },
     "execution_count": 22,
     "metadata": {},
     "output_type": "execute_result"
    }
   ],
   "source": [
    "#La tabla MetodosPAgo, almacena informaciónd e todos los métodos disponibles para hacer pagos en la plataforma de ecommerce, \n",
    "# incluye una pequeña descripción del método de pago \n",
    "sql_query = ' SELECT * FROM \"MetodosPago\"'\n",
    "df_metodos_pago = pd.read_sql(sql_query, engine)\n",
    "df_metodos_pago.head()"
   ]
  },
  {
   "cell_type": "code",
   "execution_count": 23,
   "id": "8ceb8ecf",
   "metadata": {},
   "outputs": [
    {
     "name": "stdout",
     "output_type": "stream",
     "text": [
      "('MetodoPagoID', 'integer', 'NO')\n",
      "('Nombre', 'character varying', 'NO')\n",
      "('Descripcion', 'character varying', 'NO')\n"
     ]
    }
   ],
   "source": [
    "#Contenido de la tabla MetodosPago\n",
    "contenido_metodos_pago = session.execute(text(\"\"\"\n",
    "    SELECT \n",
    "    column_name, \n",
    "    data_type, \n",
    "    is_nullable\n",
    "    FROM information_schema.columns\n",
    "    WHERE table_name = 'MetodosPago'\n",
    "\"\"\"))\n",
    "\n",
    "for contenido in contenido_metodos_pago:\n",
    "    print(contenido)"
   ]
  },
  {
   "cell_type": "markdown",
   "id": "00e58a1c",
   "metadata": {},
   "source": [
    "### Estructura y contenido Orden metodo de pago "
   ]
  },
  {
   "cell_type": "code",
   "execution_count": 24,
   "id": "345e4037",
   "metadata": {},
   "outputs": [
    {
     "data": {
      "application/vnd.microsoft.datawrangler.viewer.v0+json": {
       "columns": [
        {
         "name": "index",
         "rawType": "int64",
         "type": "integer"
        },
        {
         "name": "OrdenMetodoID",
         "rawType": "int64",
         "type": "integer"
        },
        {
         "name": "OrdenID",
         "rawType": "int64",
         "type": "integer"
        },
        {
         "name": "MetodoPagoID",
         "rawType": "int64",
         "type": "integer"
        },
        {
         "name": "MontoPagado",
         "rawType": "float64",
         "type": "float"
        }
       ],
       "ref": "8bebf28f-b2ad-4e51-9836-69aad0453910",
       "rows": [
        [
         "0",
         "1",
         "1",
         "2",
         "580.22"
        ],
        [
         "1",
         "2",
         "2",
         "4",
         "638.87"
        ],
        [
         "2",
         "3",
         "3",
         "7",
         "946.09"
        ],
        [
         "3",
         "4",
         "4",
         "2",
         "390.35"
        ],
        [
         "4",
         "5",
         "5",
         "3",
         "908.67"
        ]
       ],
       "shape": {
        "columns": 4,
        "rows": 5
       }
      },
      "text/html": [
       "<div>\n",
       "<style scoped>\n",
       "    .dataframe tbody tr th:only-of-type {\n",
       "        vertical-align: middle;\n",
       "    }\n",
       "\n",
       "    .dataframe tbody tr th {\n",
       "        vertical-align: top;\n",
       "    }\n",
       "\n",
       "    .dataframe thead th {\n",
       "        text-align: right;\n",
       "    }\n",
       "</style>\n",
       "<table border=\"1\" class=\"dataframe\">\n",
       "  <thead>\n",
       "    <tr style=\"text-align: right;\">\n",
       "      <th></th>\n",
       "      <th>OrdenMetodoID</th>\n",
       "      <th>OrdenID</th>\n",
       "      <th>MetodoPagoID</th>\n",
       "      <th>MontoPagado</th>\n",
       "    </tr>\n",
       "  </thead>\n",
       "  <tbody>\n",
       "    <tr>\n",
       "      <th>0</th>\n",
       "      <td>1</td>\n",
       "      <td>1</td>\n",
       "      <td>2</td>\n",
       "      <td>580.22</td>\n",
       "    </tr>\n",
       "    <tr>\n",
       "      <th>1</th>\n",
       "      <td>2</td>\n",
       "      <td>2</td>\n",
       "      <td>4</td>\n",
       "      <td>638.87</td>\n",
       "    </tr>\n",
       "    <tr>\n",
       "      <th>2</th>\n",
       "      <td>3</td>\n",
       "      <td>3</td>\n",
       "      <td>7</td>\n",
       "      <td>946.09</td>\n",
       "    </tr>\n",
       "    <tr>\n",
       "      <th>3</th>\n",
       "      <td>4</td>\n",
       "      <td>4</td>\n",
       "      <td>2</td>\n",
       "      <td>390.35</td>\n",
       "    </tr>\n",
       "    <tr>\n",
       "      <th>4</th>\n",
       "      <td>5</td>\n",
       "      <td>5</td>\n",
       "      <td>3</td>\n",
       "      <td>908.67</td>\n",
       "    </tr>\n",
       "  </tbody>\n",
       "</table>\n",
       "</div>"
      ],
      "text/plain": [
       "   OrdenMetodoID  OrdenID  MetodoPagoID  MontoPagado\n",
       "0              1        1             2       580.22\n",
       "1              2        2             4       638.87\n",
       "2              3        3             7       946.09\n",
       "3              4        4             2       390.35\n",
       "4              5        5             3       908.67"
      ]
     },
     "execution_count": 24,
     "metadata": {},
     "output_type": "execute_result"
    }
   ],
   "source": [
    "#La tabla OrdenMetodoPago contiene información especifica de seguimeinto de los montos pagados realizados por cada método de pago y orden  \n",
    "sql_query = ' SELECT * FROM \"OrdenesMetodosPago\"'\n",
    "df_ordenes_metodos_pago = pd.read_sql(sql_query, engine)\n",
    "df_ordenes_metodos_pago.head()"
   ]
  },
  {
   "cell_type": "code",
   "execution_count": 25,
   "id": "3861ac67",
   "metadata": {},
   "outputs": [
    {
     "name": "stdout",
     "output_type": "stream",
     "text": [
      "('OrdenMetodoID', 'integer', 'NO')\n",
      "('OrdenID', 'integer', 'NO')\n",
      "('MetodoPagoID', 'integer', 'NO')\n",
      "('MontoPagado', 'numeric', 'NO')\n"
     ]
    }
   ],
   "source": [
    "#Contenido de la tabla MetodosPago\n",
    "contenido_ordenes_metodos_pago = session.execute(text(\"\"\"\n",
    "    SELECT \n",
    "    column_name, \n",
    "    data_type, \n",
    "    is_nullable\n",
    "    FROM information_schema.columns\n",
    "    WHERE table_name = 'OrdenesMetodosPago'\n",
    "\"\"\"))\n",
    "\n",
    "for contenido in contenido_ordenes_metodos_pago:\n",
    "    print(contenido)"
   ]
  },
  {
   "cell_type": "markdown",
   "id": "6d5c53b3",
   "metadata": {},
   "source": [
    "### Estructura y contenido tabla Reseñas productos"
   ]
  },
  {
   "cell_type": "code",
   "execution_count": 26,
   "id": "a40268cc",
   "metadata": {},
   "outputs": [
    {
     "data": {
      "application/vnd.microsoft.datawrangler.viewer.v0+json": {
       "columns": [
        {
         "name": "index",
         "rawType": "int64",
         "type": "integer"
        },
        {
         "name": "ReseñaID",
         "rawType": "int64",
         "type": "integer"
        },
        {
         "name": "UsuarioID",
         "rawType": "int64",
         "type": "integer"
        },
        {
         "name": "ProductoID",
         "rawType": "int64",
         "type": "integer"
        },
        {
         "name": "Calificacion",
         "rawType": "int64",
         "type": "integer"
        },
        {
         "name": "Comentario",
         "rawType": "object",
         "type": "string"
        },
        {
         "name": "Fecha",
         "rawType": "datetime64[ns]",
         "type": "datetime"
        }
       ],
       "ref": "00f0ff81-758e-459f-9408-503261757693",
       "rows": [
        [
         "0",
         "1",
         "898",
         "10",
         "1",
         "Mala calidad, no lo recomiendo. Ullam sint aliquid reiciendis tempore modi beatae.",
         "2025-03-09 10:22:06"
        ],
        [
         "1",
         "2",
         "700",
         "16",
         "3",
         "El producto es aceptable por el precio. Quisquam accusamus iure exercitationem vel ut modi.",
         "2024-12-20 10:22:06"
        ],
        [
         "2",
         "3",
         "173",
         "13",
         "2",
         "Mala calidad, no lo recomiendo. Illum corporis unde quibusdam reiciendis fuga molestias unde.",
         "2024-07-04 10:22:06"
        ],
        [
         "3",
         "4",
         "557",
         "20",
         "2",
         "No cumplió con lo prometido. Tempore distinctio veniam laboriosam qui molestias.",
         "2024-12-26 10:22:06"
        ],
        [
         "4",
         "5",
         "448",
         "33",
         "2",
         "No cumplió con lo prometido. Modi doloribus reiciendis nihil quas.",
         "2024-07-21 10:22:06"
        ]
       ],
       "shape": {
        "columns": 6,
        "rows": 5
       }
      },
      "text/html": [
       "<div>\n",
       "<style scoped>\n",
       "    .dataframe tbody tr th:only-of-type {\n",
       "        vertical-align: middle;\n",
       "    }\n",
       "\n",
       "    .dataframe tbody tr th {\n",
       "        vertical-align: top;\n",
       "    }\n",
       "\n",
       "    .dataframe thead th {\n",
       "        text-align: right;\n",
       "    }\n",
       "</style>\n",
       "<table border=\"1\" class=\"dataframe\">\n",
       "  <thead>\n",
       "    <tr style=\"text-align: right;\">\n",
       "      <th></th>\n",
       "      <th>ReseñaID</th>\n",
       "      <th>UsuarioID</th>\n",
       "      <th>ProductoID</th>\n",
       "      <th>Calificacion</th>\n",
       "      <th>Comentario</th>\n",
       "      <th>Fecha</th>\n",
       "    </tr>\n",
       "  </thead>\n",
       "  <tbody>\n",
       "    <tr>\n",
       "      <th>0</th>\n",
       "      <td>1</td>\n",
       "      <td>898</td>\n",
       "      <td>10</td>\n",
       "      <td>1</td>\n",
       "      <td>Mala calidad, no lo recomiendo. Ullam sint ali...</td>\n",
       "      <td>2025-03-09 10:22:06</td>\n",
       "    </tr>\n",
       "    <tr>\n",
       "      <th>1</th>\n",
       "      <td>2</td>\n",
       "      <td>700</td>\n",
       "      <td>16</td>\n",
       "      <td>3</td>\n",
       "      <td>El producto es aceptable por el precio. Quisqu...</td>\n",
       "      <td>2024-12-20 10:22:06</td>\n",
       "    </tr>\n",
       "    <tr>\n",
       "      <th>2</th>\n",
       "      <td>3</td>\n",
       "      <td>173</td>\n",
       "      <td>13</td>\n",
       "      <td>2</td>\n",
       "      <td>Mala calidad, no lo recomiendo. Illum corporis...</td>\n",
       "      <td>2024-07-04 10:22:06</td>\n",
       "    </tr>\n",
       "    <tr>\n",
       "      <th>3</th>\n",
       "      <td>4</td>\n",
       "      <td>557</td>\n",
       "      <td>20</td>\n",
       "      <td>2</td>\n",
       "      <td>No cumplió con lo prometido. Tempore distincti...</td>\n",
       "      <td>2024-12-26 10:22:06</td>\n",
       "    </tr>\n",
       "    <tr>\n",
       "      <th>4</th>\n",
       "      <td>5</td>\n",
       "      <td>448</td>\n",
       "      <td>33</td>\n",
       "      <td>2</td>\n",
       "      <td>No cumplió con lo prometido. Modi doloribus re...</td>\n",
       "      <td>2024-07-21 10:22:06</td>\n",
       "    </tr>\n",
       "  </tbody>\n",
       "</table>\n",
       "</div>"
      ],
      "text/plain": [
       "   ReseñaID  UsuarioID  ProductoID  Calificacion  \\\n",
       "0         1        898          10             1   \n",
       "1         2        700          16             3   \n",
       "2         3        173          13             2   \n",
       "3         4        557          20             2   \n",
       "4         5        448          33             2   \n",
       "\n",
       "                                          Comentario               Fecha  \n",
       "0  Mala calidad, no lo recomiendo. Ullam sint ali... 2025-03-09 10:22:06  \n",
       "1  El producto es aceptable por el precio. Quisqu... 2024-12-20 10:22:06  \n",
       "2  Mala calidad, no lo recomiendo. Illum corporis... 2024-07-04 10:22:06  \n",
       "3  No cumplió con lo prometido. Tempore distincti... 2024-12-26 10:22:06  \n",
       "4  No cumplió con lo prometido. Modi doloribus re... 2024-07-21 10:22:06  "
      ]
     },
     "execution_count": 26,
     "metadata": {},
     "output_type": "execute_result"
    }
   ],
   "source": [
    "#La tabla ReseñasProductos contiene información de las reseñas que realizan los usuarios de los productos comprados, en esta indican\n",
    "# una calificación asi como un comentario de la calidad de producto, etc. \n",
    "sql_query = ' SELECT * FROM \"ReseñasProductos\"'\n",
    "df_reseñas_productos = pd.read_sql(sql_query, engine)\n",
    "df_reseñas_productos.head()"
   ]
  },
  {
   "cell_type": "code",
   "execution_count": 27,
   "id": "7da4ab37",
   "metadata": {},
   "outputs": [
    {
     "name": "stdout",
     "output_type": "stream",
     "text": [
      "('ReseñaID', 'integer', 'NO')\n",
      "('UsuarioID', 'integer', 'NO')\n",
      "('ProductoID', 'integer', 'NO')\n",
      "('Calificacion', 'integer', 'NO')\n",
      "('Comentario', 'text', 'YES')\n",
      "('Fecha', 'timestamp without time zone', 'YES')\n"
     ]
    }
   ],
   "source": [
    "#Contenido de la tabla ReseñasProductos \n",
    "contenido_reseñas_productos = session.execute(text(\"\"\"\n",
    "    SELECT \n",
    "    column_name, \n",
    "    data_type, \n",
    "    is_nullable\n",
    "    FROM information_schema.columns\n",
    "    WHERE table_name = 'ReseñasProductos'\n",
    "\"\"\"))\n",
    "\n",
    "for contenido in contenido_reseñas_productos:\n",
    "    print(contenido)"
   ]
  },
  {
   "cell_type": "markdown",
   "id": "14135c5a",
   "metadata": {},
   "source": [
    "### Estructura y contendio Historial de pago "
   ]
  },
  {
   "cell_type": "code",
   "execution_count": 28,
   "id": "2394ec45",
   "metadata": {},
   "outputs": [
    {
     "data": {
      "application/vnd.microsoft.datawrangler.viewer.v0+json": {
       "columns": [
        {
         "name": "index",
         "rawType": "int64",
         "type": "integer"
        },
        {
         "name": "PagoID",
         "rawType": "int64",
         "type": "integer"
        },
        {
         "name": "OrdenID",
         "rawType": "int64",
         "type": "integer"
        },
        {
         "name": "MetodoPagoID",
         "rawType": "int64",
         "type": "integer"
        },
        {
         "name": "Monto",
         "rawType": "float64",
         "type": "float"
        },
        {
         "name": "FechaPago",
         "rawType": "datetime64[ns]",
         "type": "datetime"
        },
        {
         "name": "EstadoPago",
         "rawType": "object",
         "type": "string"
        }
       ],
       "ref": "f39259d4-abcb-4071-aece-b11e6c6616f3",
       "rows": [
        [
         "0",
         "1",
         "1",
         "4",
         "147.13",
         "2025-06-02 10:19:16",
         "Procesando"
        ],
        [
         "1",
         "2",
         "2",
         "1",
         "647.98",
         "2025-04-27 10:19:16",
         "Reembolsado"
        ],
        [
         "2",
         "3",
         "3",
         "6",
         "627.45",
         "2025-05-07 10:19:16",
         "Fallido"
        ],
        [
         "3",
         "4",
         "4",
         "5",
         "848.07",
         "2025-06-30 10:19:16",
         "Procesando"
        ],
        [
         "4",
         "5",
         "5",
         "5",
         "189.8",
         "2025-04-03 10:19:16",
         "Fallido"
        ]
       ],
       "shape": {
        "columns": 6,
        "rows": 5
       }
      },
      "text/html": [
       "<div>\n",
       "<style scoped>\n",
       "    .dataframe tbody tr th:only-of-type {\n",
       "        vertical-align: middle;\n",
       "    }\n",
       "\n",
       "    .dataframe tbody tr th {\n",
       "        vertical-align: top;\n",
       "    }\n",
       "\n",
       "    .dataframe thead th {\n",
       "        text-align: right;\n",
       "    }\n",
       "</style>\n",
       "<table border=\"1\" class=\"dataframe\">\n",
       "  <thead>\n",
       "    <tr style=\"text-align: right;\">\n",
       "      <th></th>\n",
       "      <th>PagoID</th>\n",
       "      <th>OrdenID</th>\n",
       "      <th>MetodoPagoID</th>\n",
       "      <th>Monto</th>\n",
       "      <th>FechaPago</th>\n",
       "      <th>EstadoPago</th>\n",
       "    </tr>\n",
       "  </thead>\n",
       "  <tbody>\n",
       "    <tr>\n",
       "      <th>0</th>\n",
       "      <td>1</td>\n",
       "      <td>1</td>\n",
       "      <td>4</td>\n",
       "      <td>147.13</td>\n",
       "      <td>2025-06-02 10:19:16</td>\n",
       "      <td>Procesando</td>\n",
       "    </tr>\n",
       "    <tr>\n",
       "      <th>1</th>\n",
       "      <td>2</td>\n",
       "      <td>2</td>\n",
       "      <td>1</td>\n",
       "      <td>647.98</td>\n",
       "      <td>2025-04-27 10:19:16</td>\n",
       "      <td>Reembolsado</td>\n",
       "    </tr>\n",
       "    <tr>\n",
       "      <th>2</th>\n",
       "      <td>3</td>\n",
       "      <td>3</td>\n",
       "      <td>6</td>\n",
       "      <td>627.45</td>\n",
       "      <td>2025-05-07 10:19:16</td>\n",
       "      <td>Fallido</td>\n",
       "    </tr>\n",
       "    <tr>\n",
       "      <th>3</th>\n",
       "      <td>4</td>\n",
       "      <td>4</td>\n",
       "      <td>5</td>\n",
       "      <td>848.07</td>\n",
       "      <td>2025-06-30 10:19:16</td>\n",
       "      <td>Procesando</td>\n",
       "    </tr>\n",
       "    <tr>\n",
       "      <th>4</th>\n",
       "      <td>5</td>\n",
       "      <td>5</td>\n",
       "      <td>5</td>\n",
       "      <td>189.80</td>\n",
       "      <td>2025-04-03 10:19:16</td>\n",
       "      <td>Fallido</td>\n",
       "    </tr>\n",
       "  </tbody>\n",
       "</table>\n",
       "</div>"
      ],
      "text/plain": [
       "   PagoID  OrdenID  MetodoPagoID   Monto           FechaPago   EstadoPago\n",
       "0       1        1             4  147.13 2025-06-02 10:19:16   Procesando\n",
       "1       2        2             1  647.98 2025-04-27 10:19:16  Reembolsado\n",
       "2       3        3             6  627.45 2025-05-07 10:19:16      Fallido\n",
       "3       4        4             5  848.07 2025-06-30 10:19:16   Procesando\n",
       "4       5        5             5  189.80 2025-04-03 10:19:16      Fallido"
      ]
     },
     "execution_count": 28,
     "metadata": {},
     "output_type": "execute_result"
    }
   ],
   "source": [
    "#La tabla HistorialPagos contiene información detallada de la fecha y monto en que se realizan los pagos \n",
    "# por orden de compra y el estado del pago\n",
    "# para llevar registro de si hubo algun problema o todo esta ok en el pago \n",
    "sql_query = ' SELECT * FROM \"HistorialPagos\"'\n",
    "df_historial_pagos = pd.read_sql(sql_query, engine)\n",
    "df_historial_pagos.head()"
   ]
  },
  {
   "cell_type": "code",
   "execution_count": 29,
   "id": "a3b8c7ff",
   "metadata": {},
   "outputs": [
    {
     "name": "stdout",
     "output_type": "stream",
     "text": [
      "('PagoID', 'integer', 'NO')\n",
      "('OrdenID', 'integer', 'NO')\n",
      "('MetodoPagoID', 'integer', 'NO')\n",
      "('Monto', 'numeric', 'NO')\n",
      "('FechaPago', 'timestamp without time zone', 'YES')\n",
      "('EstadoPago', 'character varying', 'NO')\n"
     ]
    }
   ],
   "source": [
    "#Contenido de la tabla HistorialPagos \n",
    "contenido_historial_pagos = session.execute(text(\"\"\"\n",
    "    SELECT \n",
    "    column_name, \n",
    "    data_type, \n",
    "    is_nullable\n",
    "    FROM information_schema.columns\n",
    "    WHERE table_name = 'HistorialPagos'\n",
    "\"\"\"))\n",
    "\n",
    "for contenido in contenido_historial_pagos:\n",
    "    print(contenido)"
   ]
  },
  {
   "cell_type": "markdown",
   "id": "f9964660",
   "metadata": {},
   "source": [
    "## Implementar análisis exploratorio complementario en Python mediante un ORM (como SQLAlchemy o psycopg2)."
   ]
  },
  {
   "cell_type": "code",
   "execution_count": 30,
   "id": "5fa03c95",
   "metadata": {},
   "outputs": [
    {
     "name": "stdout",
     "output_type": "stream",
     "text": [
      "\n",
      "Total de usuarios registrados: 1000\n"
     ]
    }
   ],
   "source": [
    "# Importación de los modelos ORM -------------------------------------------- \n",
    "# Importamos las clases ORM correspondientes a las tablas de la base de datos.\n",
    "# Estas clases están definidas en el módulo 'modelos' y permiten trabajar\n",
    "# con SQLAlchemy de forma orientada a objetos.\n",
    "from modelos import Usuarios, Productos, Ordenes, Carrito, MetodosPago, OrdenesMetodosPago, ReseñasProductos, HistorialPagos\n",
    "# Cálculo de métricas---------------------------------------------------------\n",
    "# Objetivo: Obtener el número total de usuarios registrados en la base de datos\n",
    "# Este dato puede usarse como métrica inicial para reportes de análisis o dashboards\n",
    "\n",
    "total_usuarios = session.query(Usuarios).count()\n",
    "# Mostar resultado\n",
    "print(f\"\\nTotal de usuarios registrados: {total_usuarios}\")"
   ]
  },
  {
   "cell_type": "code",
   "execution_count": 32,
   "id": "0c2ed170",
   "metadata": {},
   "outputs": [
    {
     "name": "stdout",
     "output_type": "stream",
     "text": [
      "\n",
      "Top 5 productos con mayor cantidad de unidades en stock:\n",
      "Cuaderno Universitario 100h : 300 unidades\n",
      "Alcohol en Gel 500ml : 200 unidades\n",
      "Camiseta Básica Hombre : 200 unidades\n",
      "Crema Hidratante Facial : 150 unidades\n",
      "Jeans Skinny Mujer : 150 unidades\n"
     ]
    }
   ],
   "source": [
    "# Cálculo de métricas---------------------------------------------------------\n",
    "# Objetivo: Obtener los 5 productos con mayor cantidad de unidades en stock.\n",
    "\n",
    "# Esta métrica permite monitorear el estado del inventario y detectar productos \n",
    "# que podrían estar sobrealmacenados, lo cual puede implicar problemas de rotación\n",
    "# o baja demanda. Esta información es útil para decisiones de \n",
    "# abastecimiento, promociones o liquidaciones.\n",
    "\n",
    "top_5_stock = session.query(Productos).order_by(Productos.Stock.desc()).limit(5).all()\n",
    "# Mostar resultado\n",
    "print(\"\\nTop 5 productos con mayor cantidad de unidades en stock:\")\n",
    "for producto in top_5_stock:\n",
    "    print(f\"{producto.Nombre} : {producto.Stock} unidades\")"
   ]
  },
  {
   "cell_type": "code",
   "execution_count": 33,
   "id": "17876828",
   "metadata": {},
   "outputs": [
    {
     "name": "stdout",
     "output_type": "stream",
     "text": [
      "\n",
      "Top 5 productos con el precio unitario más alto del catálogo:\n",
      "Laptop Dell Inspiron 15 : $ 799.00 \n",
      "Consola PlayStation 5 : $ 549.99 \n",
      "Smartphone Galaxy A54 : $ 349.99 \n",
      "Bicicleta Montaña Aro 29 : $ 299.00 \n",
      "Auriculares Bluetooth Sony : $ 129.99 \n"
     ]
    }
   ],
   "source": [
    "# Cálculo de métricas---------------------------------------------------------\n",
    "# Objetivo: Obtener los 5 productos con el precio unitario más alto del catálogo.\n",
    "\n",
    "# Esta métrica permite identificar los artículos premium en el inventario, \n",
    "# útiles para análisis de rentabilidad, estrategia de precios o campañas de marketing \n",
    "\n",
    "top_5_costosos = session.query(Productos).order_by(Productos.Precio.desc()).limit(5).all()\n",
    "# Mostar resultado\n",
    "print(\"\\nTop 5 productos con el precio unitario más alto del catálogo:\")\n",
    "\n",
    "for producto in top_5_costosos:\n",
    "    print(f\"{producto.Nombre} : $ {producto.Precio} \")"
   ]
  },
  {
   "cell_type": "code",
   "execution_count": 36,
   "id": "d05b3bc5",
   "metadata": {},
   "outputs": [
    {
     "name": "stdout",
     "output_type": "stream",
     "text": [
      "\n",
      " Top 5 usuarios que han generado el mayor ingreso total en compras cuyo estado es Completado: \n",
      "UsuarioID 112 : $ 5111.83\n",
      "UsuarioID 411 : $ 4905.19\n",
      "UsuarioID 703 : $ 4424.94\n",
      "UsuarioID 390 : $ 4104.38\n",
      "UsuarioID 667 : $ 4057.64\n"
     ]
    }
   ],
   "source": [
    "# Cálculo de métricas---------------------------------------------------------\n",
    "# Objetivo: Obtener los 5 usuarios que han generado el mayor ingreso total en compras cuyo estado es \"Completado\".\n",
    "\n",
    "# Esta métrica permite identificar a los clientes más valiosos desde el punto de vista de ingresos generados.\n",
    "\n",
    "top_5_usuarios = (\n",
    "    session.query(\n",
    "        Ordenes.UsuarioID,\n",
    "        func.sum(Ordenes.Total)\n",
    "    )\n",
    "    .filter(Ordenes.Estado ==\"Completado\")\n",
    "    .group_by(Ordenes.UsuarioID)\n",
    "    .order_by(func.sum(Ordenes.Total).desc())\n",
    "    .limit(5)\n",
    "    .all()\n",
    ")\n",
    "# Mostar resultado\n",
    "print(\"\\n Top 5 usuarios que han generado el mayor ingreso total en compras cuyo estado es Completado: \")\n",
    "for usuario, total in top_5_usuarios:\n",
    "    print(f\"UsuarioID {usuario} : $ {total:.2f}\")\n"
   ]
  },
  {
   "cell_type": "code",
   "execution_count": 38,
   "id": "c00fa0c5",
   "metadata": {},
   "outputs": [
    {
     "name": "stdout",
     "output_type": "stream",
     "text": [
      "\n",
      " Producto con mayor cantidad de unidades agregadas al carrito: \n",
      "ProductoID 25 : 338.00 unidades\n"
     ]
    }
   ],
   "source": [
    "# Cálculo de métricas---------------------------------------------------------\n",
    "# Objetivo: Obtener el producto con mayor cantidad de unidades agregadas al carrito.\n",
    "\n",
    "# Esta métrica refleja el interés o intención de compra por parte de los usuarios.\n",
    "# Es útil para identificar productos populares\n",
    "producto_mas_agregado =(\n",
    "    session.query(\n",
    "        Carrito.ProductoID,\n",
    "        func.sum(Carrito.Cantidad)\n",
    "    )\n",
    "    .group_by(Carrito.ProductoID)\n",
    "    .order_by(func.sum(Carrito.Cantidad).desc())\n",
    "    .limit(1)\n",
    "    .all()\n",
    ")\n",
    "# Mostar resultado\n",
    "print(\"\\n Producto con mayor cantidad de unidades agregadas al carrito: \")\n",
    "for producto, unidades in producto_mas_agregado:\n",
    "    print(f\"ProductoID {producto} : {unidades:.2f} unidades\")"
   ]
  },
  {
   "cell_type": "code",
   "execution_count": 49,
   "id": "60f8095b",
   "metadata": {},
   "outputs": [
    {
     "data": {
      "image/png": "[encoded data removed]",
      "text/plain": [
       "<Figure size 800x500 with 1 Axes>"
      ]
     },
     "metadata": {},
     "output_type": "display_data"
    }
   ],
   "source": [
    "# Objetivo: Obtener y visualizar el total de unidades agregadas al carrito por mes.\n",
    "# Este análisis refleja la intención de compra o el comportamiento de exploración.\n",
    "# Los datos provienen de la tabla `Carrito`, y contabilizan\n",
    "# el total de unidades que fueron agregadas, independientemente de si fueron posteriormente comprados.\n",
    "# Útil para analizar el comportamiento mensual del cliente.\n",
    "ventas_por_mes = (\n",
    "    session.query(\n",
    "        extract('month', Carrito.FechaAgregado).label(\"mes\"),\n",
    "        func.sum(Carrito.Cantidad)\n",
    "    )\n",
    "    .group_by(\"mes\")\n",
    "    .order_by(\"mes\")\n",
    "    .all()\n",
    ")\n",
    "\n",
    "df_ventas_mes = pd.DataFrame(ventas_por_mes, columns=[\"Mes\", \"TotalUnidades\"])\n",
    "df_ventas_mes[\"Mes\"] = df_ventas_mes[\"Mes\"].astype(int)\n",
    "\n",
    "\n",
    "# Gráfico\n",
    "plt.figure(figsize=(8, 5))\n",
    "plt.bar(df_ventas_mes[\"Mes\"], df_ventas_mes[\"TotalUnidades\"], color='mediumpurple')\n",
    "plt.title(\"Unidades Agregadas al Carrito por Mes (Intención de Compra)\")\n",
    "plt.xlabel(\"Mes\")\n",
    "plt.ylabel(\"Unidades en carrito\")\n",
    "plt.xticks(df_ventas_mes[\"Mes\"]) \n",
    "plt.tight_layout()\n",
    "plt.show()"
   ]
  },
  {
   "cell_type": "code",
   "execution_count": 48,
   "id": "7c758193",
   "metadata": {},
   "outputs": [
    {
     "data": {
      "image/png": "[encoded data removed]",
      "text/plain": [
       "<Figure size 800x500 with 1 Axes>"
      ]
     },
     "metadata": {},
     "output_type": "display_data"
    }
   ],
   "source": [
    "# Objetivo: Obtener los métodos de pago más frecuentes utilizados en las órdenes registradas.\n",
    "# Este análisis permite identificar las preferencias de los clientes al momento de pagar \n",
    "# y porder decidir qué métodos promover o mantener activos.\n",
    "Metodo_mas_utilizado = (\n",
    "    session.query(\n",
    "        MetodosPago.Nombre.label(\"Metodo\"),\n",
    "        func.count(OrdenesMetodosPago.MetodoPagoID).label(\"Frecuencia\")\n",
    "    )\n",
    "    .join(OrdenesMetodosPago, MetodosPago.MetodoPagoID == OrdenesMetodosPago.MetodoPagoID)\n",
    "    .group_by(MetodosPago.Nombre)\n",
    "    .order_by(func.count(OrdenesMetodosPago.MetodoPagoID).desc())\n",
    "    .all()\n",
    ")\n",
    "\n",
    "df_metodos = pd.DataFrame(Metodo_mas_utilizado, columns=[\"Metodo\", \"Frecuencia\"])\n",
    "\n",
    "plt.figure(figsize=(8, 5))\n",
    "sns.barplot(data=df_metodos, x=\"Metodo\", y=\"Frecuencia\", color='mediumpurple')\n",
    "plt.title(\"Métodos de pago más utilizados\")\n",
    "plt.xlabel(\"Método de pago\")\n",
    "plt.ylabel(\"Frecuencia\")\n",
    "plt.xticks(rotation=45)\n",
    "plt.tight_layout()\n",
    "plt.show()"
   ]
  },
  {
   "cell_type": "code",
   "execution_count": 47,
   "id": "fa8b62cc",
   "metadata": {},
   "outputs": [
    {
     "data": {
      "image/png": "[encoded data removed]",
      "text/plain": [
       "<Figure size 640x480 with 1 Axes>"
      ]
     },
     "metadata": {},
     "output_type": "display_data"
    }
   ],
   "source": [
    "# Objetivo: Obtener y visualizar la frecuencia de cada calificación que los usuarios \n",
    "# han asignado a los productos en sus reseñas.\n",
    "# Permite evaluar la percepción general de los productos por parte de los clientes.\n",
    "calificaciones = (\n",
    "    session.query(\n",
    "    ReseñasProductos.Calificacion.label(\"Calificacion\"),\n",
    "    func.count(ReseñasProductos.Calificacion).label(\"Frecuencia\")\n",
    "    )\n",
    "    .group_by(ReseñasProductos.Calificacion)\n",
    "    .order_by(ReseñasProductos.Calificacion)\n",
    "    .all()\n",
    ") \n",
    "df_calificaciones = pd.DataFrame(calificaciones, columns=[\"Calificacion\", \"Frecuencia\"])\n",
    "#Gráfico\n",
    "sns.barplot(data=df_calificaciones, x=\"Calificacion\", y=\"Frecuencia\", color='mediumpurple')\n",
    "plt.title(\"Distribución de calificaciones\")\n",
    "plt.xlabel(\"Calificación\")\n",
    "plt.ylabel(\"Frecuencia\")\n",
    "plt.tight_layout()\n",
    "plt.show()"
   ]
  },
  {
   "cell_type": "code",
   "execution_count": 50,
   "id": "0208908b",
   "metadata": {},
   "outputs": [
    {
     "name": "stdout",
     "output_type": "stream",
     "text": [
      "Mes con mayor monto pagado: 4 ($ 469415.61)\n"
     ]
    },
    {
     "data": {
      "image/png": "[encoded data removed]",
      "text/plain": [
       "<Figure size 800x500 with 1 Axes>"
      ]
     },
     "metadata": {},
     "output_type": "display_data"
    }
   ],
   "source": [
    "# Objetivo: Calcular y visualizar el monto total de pagos realizados por mes\n",
    "# considerando únicamente aquellos que estén en estado \"Pagado\".\n",
    "# Permite monitorear el flujo de ingresos a lo largo del año.\n",
    "PagosPorMes= (\n",
    "    session.query(\n",
    "        extract('month', HistorialPagos.FechaPago).label(\"mes\"),\n",
    "        func.sum(HistorialPagos.Monto).label(\"MontoTotal\")\n",
    "    )\n",
    "    .filter(HistorialPagos.EstadoPago == \"Pagado\")\n",
    "    .group_by(\"mes\")\n",
    "    .order_by(func.sum(HistorialPagos.Monto).desc())\n",
    "    .all()\n",
    ")\n",
    "\n",
    "df_pagos_mes = pd.DataFrame(PagosPorMes, columns=[\"Mes\", \"MontoTotal\"])\n",
    "df_pagos_mes[\"Mes\"] = df_pagos_mes[\"Mes\"].astype(int)\n",
    "\n",
    "mes_max = df_pagos_mes.loc[df_pagos_mes[\"MontoTotal\"].idxmax()]\n",
    "print(f\"Mes con mayor monto pagado: {mes_max['Mes']} ($ {mes_max['MontoTotal']:.2f})\")\n",
    "\n",
    "#Gráfico\n",
    "plt.figure(figsize=(8, 5))\n",
    "plt.bar(df_pagos_mes[\"Mes\"], df_pagos_mes[\"MontoTotal\"], color='mediumpurple')\n",
    "plt.xlabel(\"Mes\")\n",
    "plt.ylabel(\"Monto total pagado\")\n",
    "plt.title(\"Monto total de pagos realizados por mes\")\n",
    "plt.xticks(df_pagos_mes[\"Mes\"])\n",
    "plt.tight_layout()\n",
    "plt.show()"
   ]
  },
  {
   "cell_type": "markdown",
   "id": "9e4d72f1",
   "metadata": {},
   "source": [
    "## Detectar valores nulos, duplicados, atípicos y otras inconsistencias."
   ]
  },
  {
   "cell_type": "code",
   "execution_count": 51,
   "id": "7c044691",
   "metadata": {},
   "outputs": [
    {
     "name": "stdout",
     "output_type": "stream",
     "text": [
      "Valores nulos por columna:\n",
      "UsuarioID        0\n",
      "Nombre           0\n",
      "Apellido         0\n",
      "dni              0\n",
      "Email            0\n",
      "Contraseña       0\n",
      "FechaRegistro    0\n",
      "dtype: int64\n",
      "\n",
      "No hay duplicados encontrados.\n",
      "\n",
      "No hay emails con inconsistencias.\n"
     ]
    }
   ],
   "source": [
    "#DataFrame Usuarios\n",
    "# Calidad de datos en el DataFrame 'df_usuarios'\n",
    "# Detectar valores faltantes, registros duplicados y datos con formato inconsistente\n",
    "\n",
    "#Encontrar valores nulos\n",
    "print(\"Valores nulos por columna:\")\n",
    "print(df_usuarios.isnull().sum())\n",
    "\n",
    "#Encontrar duplicados\n",
    "duplicados = df_usuarios[df_usuarios.duplicated(subset=['dni', 'Email'], keep=False)]\n",
    "if duplicados.empty:\n",
    "    print(\"\\nNo hay duplicados encontrados.\")\n",
    "else:\n",
    "    print(\"\\nDuplicados encontrados:\")\n",
    "    print(duplicados)\n",
    "\n",
    "#Encontrar datos inconsistentes \n",
    "# Evalúa si todos los correos tienen formato válido\n",
    "email_inconsistentes = df_usuarios[~df_usuarios['Email'].str.contains('@', na=False)]\n",
    "if email_inconsistentes.empty:\n",
    "    print(\"\\nNo hay emails con inconsistencias.\")\n",
    "else:\n",
    "    print(\"\\nEmails con inconsistencias encontrados:\")\n",
    "    print(email_inconsistentes)\n"
   ]
  },
  {
   "cell_type": "code",
   "execution_count": 52,
   "id": "e8275462",
   "metadata": {},
   "outputs": [
    {
     "name": "stdout",
     "output_type": "stream",
     "text": [
      "Valores nulos por columna:\n",
      "ProductoID     0\n",
      "Nombre         0\n",
      "Descripcion    0\n",
      "Precio         0\n",
      "Stock          0\n",
      "CategoriaID    0\n",
      "dtype: int64\n",
      "\n",
      "No hay duplicados encontrados.\n",
      "\n",
      "Valor de IQR\n",
      "52.5\n",
      "Cantidad de productos con stock fuera de rango: 3\n",
      "Productos con stock fuera de rango (outliers):\n",
      "['Camiseta Básica Hombre', 'Cuaderno Universitario 100h', 'Alcohol en Gel 500ml']\n"
     ]
    },
    {
     "data": {
      "image/png": "[encoded data removed]",
      "text/plain": [
       "<Figure size 900x300 with 1 Axes>"
      ]
     },
     "metadata": {},
     "output_type": "display_data"
    }
   ],
   "source": [
    "#DataFrame Productos\n",
    "# Calidad de datos en el DataFrame 'df_productos'\n",
    "# Detectar valores faltantes, registros duplicados, atípicos y datos con formato inconsistente\n",
    "\n",
    "#Encontrar valores nulos \n",
    "print(\"Valores nulos por columna:\")\n",
    "print(df_productos.isnull().sum())\n",
    "\n",
    "#Encontrar duplicados\n",
    "duplicados = df_productos[df_productos.duplicated(subset=['ProductoID', 'Nombre'], keep=False)]\n",
    "if duplicados.empty:\n",
    "    print(\"\\nNo hay duplicados encontrados.\")\n",
    "else:\n",
    "    print(\"\\nDuplicados encontrados:\")\n",
    "    print(duplicados)\n",
    "\n",
    "\n",
    "#Calculo de cuartiles \n",
    "#Primer cuartil \n",
    "Q1 = df_productos['Stock'].quantile(0.25)\n",
    "\n",
    "#Tercer cuartil\n",
    "Q3= df_productos['Stock'].quantile(0.75)\n",
    "\n",
    "# Interquartile Range IQR\n",
    "IQR = Q3 - Q1\n",
    "\n",
    "#Imprimir valor de IQR\n",
    "print(\"\\nValor de IQR\")\n",
    "print(IQR)\n",
    "\n",
    "#Limites para outliers\n",
    "\n",
    "#límite inferior \n",
    "lower_bound = Q1 - 1.5 * IQR\n",
    "#Límite superior\n",
    "upper_bound = Q3 + 1.5* IQR\n",
    "\n",
    "#Calculo de outliers\n",
    "outliers = df_productos[\n",
    "    (df_productos['Stock'] < lower_bound) | (df_productos['Stock'] > upper_bound)\n",
    "]\n",
    "\n",
    "# Cantidad de outliers\n",
    "print(f\"Cantidad de productos con stock fuera de rango: {outliers.shape[0]}\")\n",
    "\n",
    "# Nombre de productos que son outliers\n",
    "nombres_outliers = outliers['Nombre'].tolist()\n",
    "print(\"Productos con stock fuera de rango (outliers):\")\n",
    "print(nombres_outliers)\n",
    "\n",
    "#Grafico\n",
    "plt.figure(figsize=(9, 3))\n",
    "sns.boxplot(x=df_productos['Stock'], color=\"mediumpurple\")\n",
    "plt.title(\"Distribución de stock de Productos\")\n",
    "plt.ylabel\n",
    "plt.grid(True)\n",
    "plt.show()\n",
    "\n"
   ]
  },
  {
   "cell_type": "code",
   "execution_count": 53,
   "id": "01dcdb76",
   "metadata": {},
   "outputs": [
    {
     "name": "stdout",
     "output_type": "stream",
     "text": [
      "Valores nulos por columna:\n",
      "OrdenID       0\n",
      "UsuarioID     0\n",
      "FechaOrden    0\n",
      "Total         0\n",
      "Estado        0\n",
      "dtype: int64\n",
      "\n",
      "No hay duplicados encontrados.\n"
     ]
    }
   ],
   "source": [
    "#DataFrame Ordenes\n",
    "# Calidad de datos en el DataFrame 'df_ordenes'\n",
    "# Detectar valores faltantes, registros duplicados\n",
    "#Encontrar valores nulos\n",
    "print(\"Valores nulos por columna:\")\n",
    "print(df_ordenes.isnull().sum())\n",
    "\n",
    "#Encontrar duplicados\n",
    "duplicados = df_ordenes[df_ordenes.duplicated(subset=['OrdenID', 'UsuarioID'], keep=False)]\n",
    "if duplicados.empty:\n",
    "    print(\"\\nNo hay duplicados encontrados.\")\n",
    "else:\n",
    "    print(\"\\nDuplicados encontrados:\")\n",
    "    print(duplicados)"
   ]
  },
  {
   "cell_type": "code",
   "execution_count": 54,
   "id": "6f210653",
   "metadata": {},
   "outputs": [
    {
     "name": "stdout",
     "output_type": "stream",
     "text": [
      "Valores nulos por columna:\n",
      "DetalleID         0\n",
      "OrdenID           0\n",
      "ProductoID        0\n",
      "Cantidad          0\n",
      "PrecioUnitario    0\n",
      "dtype: int64\n",
      "\n",
      "No hay duplicados encontrados.\n",
      "\n",
      "Valor de IQR\n",
      "2.0\n",
      "Cantidad de productos con unidades vendidas fuera de rango: 0\n",
      "Ordenes con unidades vendidas fuera de rango (outliers):\n",
      "[]\n"
     ]
    },
    {
     "data": {
      "image/png": "[encoded data removed]",
      "text/plain": [
       "<Figure size 900x300 with 1 Axes>"
      ]
     },
     "metadata": {},
     "output_type": "display_data"
    }
   ],
   "source": [
    "#DataFrame DetalleOrdenes\n",
    "# Calidad de datos en el DataFrame 'df_detalle_ordenes'\n",
    "# Detectar valores faltantes, registros duplicados y datos con formato inconsistente\n",
    "#Encontrar valores nulos \n",
    "print(\"Valores nulos por columna:\")\n",
    "print(df_detalle_ordenes.isnull().sum())\n",
    "\n",
    "#Encontrar duplicados\n",
    "duplicados = df_detalle_ordenes[df_detalle_ordenes.duplicated(subset=['OrdenID', 'ProductoID', 'DetalleID'], keep=False)]\n",
    "if duplicados.empty:\n",
    "    print(\"\\nNo hay duplicados encontrados.\")\n",
    "else:\n",
    "    print(\"\\nDuplicados encontrados:\")\n",
    "    print(duplicados)\n",
    "\n",
    "\n",
    "\n",
    "#Calculo de cuartiles \n",
    "#Primer cuartil \n",
    "Q1 = df_detalle_ordenes['Cantidad'].quantile(0.25)\n",
    "\n",
    "#Tercer cuartil\n",
    "Q3= df_detalle_ordenes['Cantidad'].quantile(0.75)\n",
    "\n",
    "# Interquartile Range IQR\n",
    "IQR = Q3 - Q1\n",
    "\n",
    "#Imprimir valor de IQR\n",
    "print(\"\\nValor de IQR\")\n",
    "print(IQR)\n",
    "\n",
    "#Limites para outliers\n",
    "\n",
    "#límite inferior \n",
    "lower_bound = Q1 - 1.5 * IQR\n",
    "#Límite superior\n",
    "upper_bound = Q3 + 1.5* IQR\n",
    "\n",
    "#Calculo de outliers\n",
    "outliers = df_detalle_ordenes[\n",
    "    (df_detalle_ordenes['Cantidad'] < lower_bound) | (df_detalle_ordenes['Cantidad'] > upper_bound)\n",
    "]\n",
    "\n",
    "# Cantidad de outliers\n",
    "print(f\"Cantidad de productos con unidades vendidas fuera de rango: {outliers.shape[0]}\")\n",
    "\n",
    "# Nombre de productos que son outliers\n",
    "orden_outliers = outliers['OrdenID'].tolist()\n",
    "print(\"Ordenes con unidades vendidas fuera de rango (outliers):\")\n",
    "print(orden_outliers)\n",
    "\n",
    "#Grafico\n",
    "plt.figure(figsize=(9, 3))\n",
    "sns.boxplot(x=df_detalle_ordenes['Cantidad'], color=\"mediumpurple\")\n",
    "plt.title(\"Distribución de unidades vendidas de Productos\")\n",
    "plt.ylabel\n",
    "plt.grid(True)\n",
    "plt.show()\n"
   ]
  },
  {
   "cell_type": "code",
   "execution_count": 55,
   "id": "e986109b",
   "metadata": {},
   "outputs": [
    {
     "name": "stdout",
     "output_type": "stream",
     "text": [
      "Valores nulos por columna:\n",
      "DireccionID     0\n",
      "UsuarioID       0\n",
      "Calle           0\n",
      "Ciudad          0\n",
      "Departamento    0\n",
      "Provincia       0\n",
      "Distrito        0\n",
      "Estado          0\n",
      "CodigoPostal    0\n",
      "Pais            0\n",
      "dtype: int64\n",
      "\n",
      "No hay duplicados encontrados.\n"
     ]
    }
   ],
   "source": [
    "#DataFrame DireccionesEnvio\n",
    "# Calidad de datos en el DataFrame 'df_direcciones_envio'\n",
    "# Detectar valores faltantes, registros duplicados\n",
    "\n",
    "#Encontrar valores nulos\n",
    "print(\"Valores nulos por columna:\")\n",
    "print(df_direcciones_envio.isnull().sum())\n",
    "\n",
    "#Encontrar duplicados\n",
    "duplicados = df_direcciones_envio[df_direcciones_envio.duplicated(subset=['DireccionID', 'UsuarioID'], keep=False)]\n",
    "if duplicados.empty:\n",
    "    print(\"\\nNo hay duplicados encontrados.\")\n",
    "else:\n",
    "    print(\"\\nDuplicados encontrados:\")\n",
    "    print(duplicados)"
   ]
  },
  {
   "cell_type": "code",
   "execution_count": 60,
   "id": "3ab13bae",
   "metadata": {},
   "outputs": [
    {
     "name": "stdout",
     "output_type": "stream",
     "text": [
      "Valores nulos por columna:\n",
      "CarritoID        0\n",
      "UsuarioID        0\n",
      "ProductoID       0\n",
      "Cantidad         0\n",
      "FechaAgregado    0\n",
      "dtype: int64\n",
      "\n",
      "No hay duplicados encontrados.\n",
      "\n",
      "Valor de IQR\n",
      "2.0\n",
      "Cantidad de ordenes en carrito con unidades agregadas fuera de rango: 0\n",
      "Ordenes en Carrito con unidades agregadas fuera de rango (outliers):\n",
      "[]\n"
     ]
    },
    {
     "data": {
      "image/png": "[encoded data removed]",
      "text/plain": [
       "<Figure size 900x300 with 1 Axes>"
      ]
     },
     "metadata": {},
     "output_type": "display_data"
    }
   ],
   "source": [
    "#DataFrame Carrito\n",
    "# Calidad de datos en el DataFrame 'df_carrito'\n",
    "# Detectar valores faltantes, registros duplicados y atípicos \n",
    "#Encontrar valores nulos\n",
    "print(\"Valores nulos por columna:\")\n",
    "print(df_carrito.isnull().sum())\n",
    "\n",
    "#Encontrar duplicados\n",
    "duplicados = df_carrito[df_carrito.duplicated(subset=['CarritoID', 'UsuarioID', 'ProductoID'], keep=False)]\n",
    "if duplicados.empty:\n",
    "    print(\"\\nNo hay duplicados encontrados.\")\n",
    "else:\n",
    "    print(\"\\nDuplicados encontrados:\")\n",
    "    print(duplicados)\n",
    "\n",
    "#Calculo de cuartiles \n",
    "#Primer cuartil \n",
    "Q1 = df_carrito['Cantidad'].quantile(0.25)\n",
    "\n",
    "#Tercer cuartil\n",
    "Q3= df_carrito['Cantidad'].quantile(0.75)\n",
    "\n",
    "# Interquartile Range IQR\n",
    "IQR = Q3 - Q1\n",
    "\n",
    "#Imprimir valor de IQR\n",
    "print(\"\\nValor de IQR\")\n",
    "print(IQR)\n",
    "\n",
    "#Limites para outliers\n",
    "\n",
    "#límite inferior \n",
    "lower_bound = Q1 - 1.5 * IQR\n",
    "#Límite superior\n",
    "upper_bound = Q3 + 1.5* IQR\n",
    "\n",
    "#Calculo de outliers\n",
    "outliers = df_carrito[\n",
    "    (df_carrito['Cantidad'] < lower_bound) | (df_carrito['Cantidad'] > upper_bound)\n",
    "]\n",
    "\n",
    "# Cantidad de outliers\n",
    "print(f\"Cantidad de ordenes en carrito con unidades agregadas fuera de rango: {outliers.shape[0]}\")\n",
    "\n",
    "# Id de carrito con outliers\n",
    "carrito_outliers = outliers['CarritoID'].tolist()\n",
    "print(\"Ordenes en Carrito con unidades agregadas fuera de rango (outliers):\")\n",
    "print(carrito_outliers)\n",
    "\n",
    "#Grafico\n",
    "plt.figure(figsize=(9, 3))\n",
    "sns.boxplot(x=df_carrito['Cantidad'], color=\"mediumpurple\")\n",
    "plt.title(\"Distribución de unidades agregadas en carrito\")\n",
    "plt.ylabel(\"Unidades\")\n",
    "plt.grid(True)\n",
    "plt.show()\n"
   ]
  },
  {
   "cell_type": "code",
   "execution_count": 57,
   "id": "e378cd1f",
   "metadata": {},
   "outputs": [
    {
     "name": "stdout",
     "output_type": "stream",
     "text": [
      "Valores nulos por columna:\n",
      "OrdenMetodoID    0\n",
      "OrdenID          0\n",
      "MetodoPagoID     0\n",
      "MontoPagado      0\n",
      "dtype: int64\n",
      "\n",
      "No hay duplicados encontrados.\n",
      "\n",
      "Valor de IQR\n",
      "458.04999999999995\n",
      "Cantidad de Montos pagados fuera de rango: 0\n",
      "Cantidad de ordenes con montos de pago fuera de rango (outliers):\n",
      "[]\n"
     ]
    },
    {
     "data": {
      "image/png": "[encoded data removed]",
      "text/plain": [
       "<Figure size 900x300 with 1 Axes>"
      ]
     },
     "metadata": {},
     "output_type": "display_data"
    }
   ],
   "source": [
    "#DataFrame OrdenesMetodosPago\n",
    "# Calidad de datos en el DataFrame 'df_metodos_pago'\n",
    "# Detectar valores faltantes, registros duplicados y atípicos \n",
    "#Encontrar valores nulos\n",
    "print(\"Valores nulos por columna:\")\n",
    "print(df_ordenes_metodos_pago.isnull().sum())\n",
    "\n",
    "#Encontrar duplicados\n",
    "duplicados = df_ordenes_metodos_pago[df_ordenes_metodos_pago.duplicated(subset=['OrdenMetodoID', 'OrdenID'], keep=False)]\n",
    "if duplicados.empty:\n",
    "    print(\"\\nNo hay duplicados encontrados.\")\n",
    "else:\n",
    "    print(\"\\nDuplicados encontrados:\")\n",
    "    print(duplicados)\n",
    "\n",
    "#Calculo de cuartiles \n",
    "#Primer cuartil \n",
    "Q1 = df_ordenes_metodos_pago['MontoPagado'].quantile(0.25)\n",
    "\n",
    "#Tercer cuartil\n",
    "Q3= df_ordenes_metodos_pago['MontoPagado'].quantile(0.75)\n",
    "\n",
    "# Interquartile Range IQR\n",
    "IQR = Q3 - Q1\n",
    "\n",
    "#Imprimir valor de IQR\n",
    "print(\"\\nValor de IQR\")\n",
    "print(IQR)\n",
    "\n",
    "#Limites para outliers\n",
    "\n",
    "#límite inferior \n",
    "lower_bound = Q1 - 1.5 * IQR\n",
    "#Límite superior\n",
    "upper_bound = Q3 + 1.5* IQR\n",
    "\n",
    "#Calculo de outliers\n",
    "outliers = df_ordenes_metodos_pago[\n",
    "    (df_ordenes_metodos_pago['MontoPagado'] < lower_bound) | (df_ordenes_metodos_pago['MontoPagado'] > upper_bound)\n",
    "]\n",
    "\n",
    "# Cantidad de outliers\n",
    "print(f\"Cantidad de Montos pagados fuera de rango: {outliers.shape[0]}\")\n",
    "\n",
    "# ID ordenes con outliers\n",
    "orden_outliers = outliers['OrdenMetodoID'].tolist()\n",
    "print(\"Cantidad de ordenes con montos de pago fuera de rango (outliers):\")\n",
    "print(orden_outliers)\n",
    "\n",
    "#Grafico\n",
    "plt.figure(figsize=(9, 3))\n",
    "sns.boxplot(x=df_ordenes_metodos_pago['MontoPagado'], color=\"mediumpurple\")\n",
    "plt.title(\"Distribución de montos pagados por orden\")\n",
    "plt.ylabel\n",
    "plt.grid(True)\n",
    "plt.show()"
   ]
  },
  {
   "cell_type": "code",
   "execution_count": 58,
   "id": "a9fe9337",
   "metadata": {},
   "outputs": [
    {
     "name": "stdout",
     "output_type": "stream",
     "text": [
      "Valores nulos por columna:\n",
      "ReseñaID        0\n",
      "UsuarioID       0\n",
      "ProductoID      0\n",
      "Calificacion    0\n",
      "Comentario      0\n",
      "Fecha           0\n",
      "dtype: int64\n",
      "\n",
      "No hay duplicados encontrados.\n"
     ]
    }
   ],
   "source": [
    "#DataFrame ReseñasProductos\n",
    "# Calidad de datos en el DataFrame 'df_reseñas_productos'\n",
    "# Detectar valores faltantes, registros duplicados \n",
    "\n",
    "#Encontrar valores nulos\n",
    "print(\"Valores nulos por columna:\")\n",
    "print(df_reseñas_productos.isnull().sum())\n",
    "\n",
    "#Encontrar duplicados\n",
    "duplicados = df_reseñas_productos[df_reseñas_productos.duplicated(subset=['ReseñaID', 'UsuarioID', 'ProductoID'], keep=False)]\n",
    "if duplicados.empty:\n",
    "    print(\"\\nNo hay duplicados encontrados.\")\n",
    "else:\n",
    "    print(\"\\nDuplicados encontrados:\")\n",
    "    print(duplicados)"
   ]
  },
  {
   "cell_type": "code",
   "execution_count": 59,
   "id": "f823e95f",
   "metadata": {},
   "outputs": [
    {
     "name": "stdout",
     "output_type": "stream",
     "text": [
      "Valores nulos por columna:\n",
      "PagoID          0\n",
      "OrdenID         0\n",
      "MetodoPagoID    0\n",
      "Monto           0\n",
      "FechaPago       0\n",
      "EstadoPago      0\n",
      "dtype: int64\n",
      "\n",
      "No hay duplicados encontrados.\n"
     ]
    }
   ],
   "source": [
    "#DataFrame HistorialPagos\n",
    "# Calidad de datos en el DataFrame 'df_historial_pagos'\n",
    "# Detectar valores faltantes, registros duplicados \n",
    "\n",
    "#Encontrar valores nulos\n",
    "print(\"Valores nulos por columna:\")\n",
    "print(df_historial_pagos.isnull().sum())\n",
    "\n",
    "#Encontrar duplicados\n",
    "duplicados = df_historial_pagos[df_historial_pagos.duplicated(subset=['PagoID', 'OrdenID'], keep=False)]\n",
    "if duplicados.empty:\n",
    "    print(\"\\nNo hay duplicados encontrados.\")\n",
    "else:\n",
    "    print(\"\\nDuplicados encontrados:\")\n",
    "    print(duplicados)"
   ]
  },
  {
   "cell_type": "markdown",
   "id": "6add567d",
   "metadata": {},
   "source": [
    "## Identificar claves primarias y foráneas implícitas, atributos principales y variables relevantes para el negocio."
   ]
  },
  {
   "cell_type": "markdown",
   "id": "dee6d8e7",
   "metadata": {},
   "source": [
    "1. Usuarios\n",
    "\n",
    "| Elemento                  | Descripción                                           |\n",
    "| ------------------------- | ----------------------------------------------------- |\n",
    "| **Clave primaria**        | `ID` (implícita)                                      |\n",
    "| **Atributos principales** | `Nombre`, `Apellido`, `dni`, `Email`, `FechaRegistro` |\n",
    "| **Variables de negocio**  | `FechaRegistro` (segmentación por antigüedad)         |\n",
    "\n",
    "2. Productos\n",
    "\n",
    "| Elemento                  | Descripción                                                              |\n",
    "| ------------------------- | ------------------------------------------------------------------------ |\n",
    "| **Clave primaria**        | `ID` (implícita)                                                         |\n",
    "| **Atributos principales** | `Nombre`, `Descripción`, `Categoria`, `PrecioUnitario`, `Stock`         |\n",
    "| **Variables de negocio**  | `PrecioUnitario`, `Stock` (gestión de inventario, historial de precios) |\n",
    "\n",
    "3. Categorias\n",
    "\n",
    "| Elemento                  | Descripción                                                 |\n",
    "| ------------------------- | ----------------------------------------------------------- |\n",
    "| **Clave primaria**        | `ID` (implícita)                                            |\n",
    "| **Atributos principales** | `Nombre`, `Descripción`                                     |\n",
    "| **Variables de negocio**  | `Nombre` (análisis de productos más vendidos por categoría) |\n",
    "\n",
    "4. Carrito\n",
    "\n",
    "| Elemento                  | Descripción                                              |\n",
    "| ------------------------- | -------------------------------------------------------- |\n",
    "| **Clave primaria**        | `ID` (implícita)                                         |\n",
    "| **Claves foráneas**       | `UsuarioID` → Usuarios.ID<br>`ProductoID` → Productos.ID |\n",
    "| **Atributos principales** | `Cantidad`, `FechaAgregado`                              |\n",
    "| **Variables de negocio**  | `Cantidad` (productos agregados al carrito)              |\n",
    "\n",
    "5. Ordenes\n",
    "\n",
    "| Elemento                  | Descripción                                                         |\n",
    "| ------------------------- | ------------------------------------------------------------------- |\n",
    "| **Clave primaria**        | `ID` (implícita)                                                    |\n",
    "| **Clave foránea**         | `UsuarioID` → Usuarios.ID                                           |\n",
    "| **Atributos principales** | `FechaOrden`, `Estado`, `Total`                                     |\n",
    "| **Variables de negocio**  | `Total`, `Estado`, `FechaOrden` (análisis de ventas y temporalidad) |\n",
    "\n",
    "6. DetalleOrdenes: \n",
    "\n",
    "| Elemento                  | Descripción                                                      |\n",
    "| ------------------------- | ---------------------------------------------------------------- |\n",
    "| **Clave primaria**        | `ID` (implícita)                                                 |\n",
    "| **Claves foráneas**       | `OrdenID` → Órdenes.ID<br>`ProductoID` → Productos.ID            |\n",
    "| **Atributos principales** | `Cantidad`, `Precio unitario`                                    |\n",
    "| **Variables de negocio**  | `Cantidad`, `Precio unitario` (detalle de ingresos por producto) |\n",
    "\n",
    "7. MetodosPago\n",
    "\n",
    "| Elemento                  | Descripción                                           |\n",
    "| ------------------------- | ----------------------------------------------------- |\n",
    "| **Clave primaria**        | `ID` (implícita)                                      |\n",
    "| **Atributos principales** | `Nombre`, `Descripción`                               |\n",
    "| **Variables de negocio**  | `Nombre` (análisis de preferencia de métodos de pago) |\n",
    "\n",
    "8. OrdenesMetodosPago\n",
    "\n",
    "| Elemento                  | Descripción                                               |\n",
    "| ------------------------- | --------------------------------------------------------- |\n",
    "| **Clave primaria**        | `ID` (implícita)                                          |\n",
    "| **Claves foráneas**       | `OrdenID` → Órdenes.ID<br>`MetodoPagoID` → MétodosPago.ID |\n",
    "| **Atributos principales** | `MontoPagado`                                             |\n",
    "| **Variables de negocio**  | `MontoPagado` (ingresos por método de pago)               |\n",
    "\n",
    "9. HistorialPago\n",
    "\n",
    "| Elemento                  | Descripción                                                             |\n",
    "| ------------------------- | ----------------------------------------------------------------------- |\n",
    "| **Clave primaria**        | `ID` (implícita)                                                        |\n",
    "| **Claves foráneas**       | `OrdenID` → Órdenes.ID<br>`MetodoPagoID` → MétodosPago.ID               |\n",
    "| **Atributos principales** | `Monto`, `FechaPago`, `EstadoPago`                                      |\n",
    "| **Variables de negocio**  | `Monto`, `FechaPago`, `EstadoPago` (análisis financiero y cumplimiento) |\n",
    "\n",
    "10. ReseñasProductos\n",
    "\n",
    "| Elemento                  | Descripción                                                      |\n",
    "| ------------------------- | ---------------------------------------------------------------- |\n",
    "| **Clave primaria**        | `ID` (implícita)                                                 |\n",
    "| **Claves foráneas**       | `UsuarioID` → Usuarios.ID<br>`ProductoID` → Productos.ID         |\n",
    "| **Atributos principales** | `Calificación`, `Comentario`, `Fecha`                            |\n",
    "| **Variables de negocio**  | `Calificación` (indicador de calidad y satisfacción del cliente) |\n",
    "\n",
    "11. DireccionesEnvio \n",
    "\n",
    "| Elemento                  | Descripción                                                                                  |\n",
    "| ------------------------- | -------------------------------------------------------------------------------------------- |\n",
    "| **Clave primaria**        | `ID` (implícita)                                                                             |\n",
    "| **Clave foránea**         | `UsuarioID` → Usuarios.ID                                                                    |\n",
    "| **Atributos principales** | `Calle`, `Ciudad`, `Departamento`, `Provincia`, `Distrito`, `Estado`, `CodigoPostal`, `Pais` |\n",
    "| **Variables de negocio**  | `Pais`, `Estado`, `Ciudad` (análisis logístico)                                              |\n"
   ]
  },
  {
   "cell_type": "markdown",
   "id": "a8066210",
   "metadata": {},
   "source": [
    "## Proponer y documentar acciones de preprocesamiento y corrección de calidad de datos."
   ]
  },
  {
   "cell_type": "markdown",
   "id": "6b351cfe",
   "metadata": {},
   "source": [
    "Se llevó a cabo una revisión del conjunto de dato, enfocada en asegurar su integridad y calidad. Las validaciones incluyeron:\n",
    "\n",
    "- **Verificación de valores nulos** por columna usando `df.isnull().sum()`.\n",
    "- **Detección de duplicados** en campos clave \n",
    "- **Evaluación del formato de correos electrónicos**, asegurando la presencia del carácter `'@'`.\n",
    "- **Revisión de valores atípicos** en variables numéricas como `Cantidad`, `Stock`, y `MontoPagado`.\n",
    "\n",
    "#### Resultado\n",
    "\n",
    "- Tras realizar todas las verificaciones, **no se detectaron valores nulos, duplicados, inconsistencias de formato, valores atípicos ni errores de integridad referencial**.  \n",
    "- Los datos se encuentran en **buen estado** y son adecuados para su análisis, visualización y modelado.\n"
   ]
  }
 ],
 "metadata": {
  "kernelspec": {
   "display_name": "Python 3",
   "language": "python",
   "name": "python3"
  },
  "language_info": {
   "codemirror_mode": {
    "name": "ipython",
    "version": 3
   },
   "file_extension": ".py",
   "mimetype": "text/x-python",
   "name": "python",
   "nbconvert_exporter": "python",
   "pygments_lexer": "ipython3",
   "version": "3.10.11"
  }
 },
 "nbformat": 4,
 "nbformat_minor": 5
}
